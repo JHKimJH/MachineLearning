{
 "cells": [
  {
   "cell_type": "markdown",
   "metadata": {},
   "source": [
    "Read file"
   ]
  },
  {
   "cell_type": "code",
   "execution_count": 109,
   "metadata": {
    "scrolled": true
   },
   "outputs": [
    {
     "data": {
      "text/html": [
       "<div>\n",
       "<style scoped>\n",
       "    .dataframe tbody tr th:only-of-type {\n",
       "        vertical-align: middle;\n",
       "    }\n",
       "\n",
       "    .dataframe tbody tr th {\n",
       "        vertical-align: top;\n",
       "    }\n",
       "\n",
       "    .dataframe thead th {\n",
       "        text-align: right;\n",
       "    }\n",
       "</style>\n",
       "<table border=\"1\" class=\"dataframe\">\n",
       "  <thead>\n",
       "    <tr style=\"text-align: right;\">\n",
       "      <th></th>\n",
       "      <th>id</th>\n",
       "      <th>L-CORE</th>\n",
       "      <th>L-SURF</th>\n",
       "      <th>L-O2</th>\n",
       "      <th>L-BP</th>\n",
       "      <th>SURF-STBL</th>\n",
       "      <th>CORE-STBL</th>\n",
       "      <th>BP-STBL</th>\n",
       "      <th>COMFORT</th>\n",
       "      <th>decision</th>\n",
       "    </tr>\n",
       "  </thead>\n",
       "  <tbody>\n",
       "    <tr>\n",
       "      <th>0</th>\n",
       "      <td>1</td>\n",
       "      <td>mid</td>\n",
       "      <td>low</td>\n",
       "      <td>excellent</td>\n",
       "      <td>mid</td>\n",
       "      <td>stable</td>\n",
       "      <td>stable</td>\n",
       "      <td>stable</td>\n",
       "      <td>15</td>\n",
       "      <td>A</td>\n",
       "    </tr>\n",
       "    <tr>\n",
       "      <th>1</th>\n",
       "      <td>2</td>\n",
       "      <td>mid</td>\n",
       "      <td>high</td>\n",
       "      <td>excellent</td>\n",
       "      <td>high</td>\n",
       "      <td>stable</td>\n",
       "      <td>stable</td>\n",
       "      <td>stable</td>\n",
       "      <td>10</td>\n",
       "      <td>S</td>\n",
       "    </tr>\n",
       "    <tr>\n",
       "      <th>2</th>\n",
       "      <td>3</td>\n",
       "      <td>high</td>\n",
       "      <td>low</td>\n",
       "      <td>excellent</td>\n",
       "      <td>high</td>\n",
       "      <td>stable</td>\n",
       "      <td>stable</td>\n",
       "      <td>mod-stable</td>\n",
       "      <td>10</td>\n",
       "      <td>A</td>\n",
       "    </tr>\n",
       "    <tr>\n",
       "      <th>3</th>\n",
       "      <td>4</td>\n",
       "      <td>mid</td>\n",
       "      <td>low</td>\n",
       "      <td>good</td>\n",
       "      <td>high</td>\n",
       "      <td>stable</td>\n",
       "      <td>unstable</td>\n",
       "      <td>mod-stable</td>\n",
       "      <td>15</td>\n",
       "      <td>A</td>\n",
       "    </tr>\n",
       "    <tr>\n",
       "      <th>4</th>\n",
       "      <td>5</td>\n",
       "      <td>mid</td>\n",
       "      <td>mid</td>\n",
       "      <td>excellent</td>\n",
       "      <td>high</td>\n",
       "      <td>stable</td>\n",
       "      <td>stable</td>\n",
       "      <td>stable</td>\n",
       "      <td>10</td>\n",
       "      <td>A</td>\n",
       "    </tr>\n",
       "    <tr>\n",
       "      <th>5</th>\n",
       "      <td>6</td>\n",
       "      <td>high</td>\n",
       "      <td>low</td>\n",
       "      <td>good</td>\n",
       "      <td>mid</td>\n",
       "      <td>stable</td>\n",
       "      <td>stable</td>\n",
       "      <td>unstable</td>\n",
       "      <td>15</td>\n",
       "      <td>S</td>\n",
       "    </tr>\n",
       "    <tr>\n",
       "      <th>6</th>\n",
       "      <td>7</td>\n",
       "      <td>mid</td>\n",
       "      <td>low</td>\n",
       "      <td>excellent</td>\n",
       "      <td>high</td>\n",
       "      <td>stable</td>\n",
       "      <td>stable</td>\n",
       "      <td>mod-stable</td>\n",
       "      <td>05</td>\n",
       "      <td>S</td>\n",
       "    </tr>\n",
       "    <tr>\n",
       "      <th>7</th>\n",
       "      <td>8</td>\n",
       "      <td>high</td>\n",
       "      <td>mid</td>\n",
       "      <td>excellent</td>\n",
       "      <td>mid</td>\n",
       "      <td>unstable</td>\n",
       "      <td>unstable</td>\n",
       "      <td>stable</td>\n",
       "      <td>10</td>\n",
       "      <td>S</td>\n",
       "    </tr>\n",
       "    <tr>\n",
       "      <th>8</th>\n",
       "      <td>9</td>\n",
       "      <td>mid</td>\n",
       "      <td>high</td>\n",
       "      <td>good</td>\n",
       "      <td>mid</td>\n",
       "      <td>stable</td>\n",
       "      <td>stable</td>\n",
       "      <td>stable</td>\n",
       "      <td>10</td>\n",
       "      <td>S</td>\n",
       "    </tr>\n",
       "    <tr>\n",
       "      <th>9</th>\n",
       "      <td>10</td>\n",
       "      <td>mid</td>\n",
       "      <td>low</td>\n",
       "      <td>excellent</td>\n",
       "      <td>mid</td>\n",
       "      <td>unstable</td>\n",
       "      <td>stable</td>\n",
       "      <td>mod-stable</td>\n",
       "      <td>10</td>\n",
       "      <td>S</td>\n",
       "    </tr>\n",
       "  </tbody>\n",
       "</table>\n",
       "</div>"
      ],
      "text/plain": [
       "   id L-CORE L-SURF       L-O2  L-BP SURF-STBL CORE-STBL     BP-STBL COMFORT  \\\n",
       "0   1    mid    low  excellent   mid    stable    stable      stable      15   \n",
       "1   2    mid   high  excellent  high    stable    stable      stable      10   \n",
       "2   3   high    low  excellent  high    stable    stable  mod-stable      10   \n",
       "3   4    mid    low       good  high    stable  unstable  mod-stable      15   \n",
       "4   5    mid    mid  excellent  high    stable    stable      stable      10   \n",
       "5   6   high    low       good   mid    stable    stable    unstable      15   \n",
       "6   7    mid    low  excellent  high    stable    stable  mod-stable      05   \n",
       "7   8   high    mid  excellent   mid  unstable  unstable      stable      10   \n",
       "8   9    mid   high       good   mid    stable    stable      stable      10   \n",
       "9  10    mid    low  excellent   mid  unstable    stable  mod-stable      10   \n",
       "\n",
       "  decision  \n",
       "0        A  \n",
       "1        S  \n",
       "2        A  \n",
       "3        A  \n",
       "4        A  \n",
       "5        S  \n",
       "6        S  \n",
       "7        S  \n",
       "8        S  \n",
       "9        S  "
      ]
     },
     "execution_count": 109,
     "metadata": {},
     "output_type": "execute_result"
    }
   ],
   "source": [
    "import pandas as pd\n",
    "\n",
    "df = pd.read_csv(\"csv_result-postoperative-patient-data.csv\")\n",
    "\n",
    "df.head(10)"
   ]
  },
  {
   "cell_type": "code",
   "execution_count": 110,
   "metadata": {},
   "outputs": [
    {
     "data": {
      "text/plain": [
       "['id',\n",
       " 'L-CORE',\n",
       " 'L-SURF',\n",
       " 'L-O2',\n",
       " 'L-BP',\n",
       " 'SURF-STBL',\n",
       " 'CORE-STBL',\n",
       " 'BP-STBL',\n",
       " 'COMFORT']"
      ]
     },
     "execution_count": 110,
     "metadata": {},
     "output_type": "execute_result"
    }
   ],
   "source": [
    "feature_names = list(df.columns[:-1])\n",
    "feature_names"
   ]
  },
  {
   "cell_type": "code",
   "execution_count": 111,
   "metadata": {},
   "outputs": [
    {
     "data": {
      "text/plain": [
       "array(['A', 'S', 'I'], dtype=object)"
      ]
     },
     "execution_count": 111,
     "metadata": {},
     "output_type": "execute_result"
    }
   ],
   "source": [
    "class_names = df[\"decision\"].unique()\n",
    "class_names"
   ]
  },
  {
   "cell_type": "code",
   "execution_count": 112,
   "metadata": {},
   "outputs": [
    {
     "data": {
      "text/plain": [
       "[[1,\n",
       "  'mid',\n",
       "  'low',\n",
       "  'excellent',\n",
       "  'mid',\n",
       "  'stable',\n",
       "  'stable',\n",
       "  'stable',\n",
       "  '15',\n",
       "  'A'],\n",
       " [2,\n",
       "  'mid',\n",
       "  'high',\n",
       "  'excellent',\n",
       "  'high',\n",
       "  'stable',\n",
       "  'stable',\n",
       "  'stable',\n",
       "  '10',\n",
       "  'S'],\n",
       " [3,\n",
       "  'high',\n",
       "  'low',\n",
       "  'excellent',\n",
       "  'high',\n",
       "  'stable',\n",
       "  'stable',\n",
       "  'mod-stable',\n",
       "  '10',\n",
       "  'A'],\n",
       " [4,\n",
       "  'mid',\n",
       "  'low',\n",
       "  'good',\n",
       "  'high',\n",
       "  'stable',\n",
       "  'unstable',\n",
       "  'mod-stable',\n",
       "  '15',\n",
       "  'A'],\n",
       " [5,\n",
       "  'mid',\n",
       "  'mid',\n",
       "  'excellent',\n",
       "  'high',\n",
       "  'stable',\n",
       "  'stable',\n",
       "  'stable',\n",
       "  '10',\n",
       "  'A'],\n",
       " [6, 'high', 'low', 'good', 'mid', 'stable', 'stable', 'unstable', '15', 'S'],\n",
       " [7,\n",
       "  'mid',\n",
       "  'low',\n",
       "  'excellent',\n",
       "  'high',\n",
       "  'stable',\n",
       "  'stable',\n",
       "  'mod-stable',\n",
       "  '05',\n",
       "  'S'],\n",
       " [8,\n",
       "  'high',\n",
       "  'mid',\n",
       "  'excellent',\n",
       "  'mid',\n",
       "  'unstable',\n",
       "  'unstable',\n",
       "  'stable',\n",
       "  '10',\n",
       "  'S'],\n",
       " [9, 'mid', 'high', 'good', 'mid', 'stable', 'stable', 'stable', '10', 'S'],\n",
       " [10,\n",
       "  'mid',\n",
       "  'low',\n",
       "  'excellent',\n",
       "  'mid',\n",
       "  'unstable',\n",
       "  'stable',\n",
       "  'mod-stable',\n",
       "  '10',\n",
       "  'S'],\n",
       " [11, 'mid', 'mid', 'good', 'mid', 'stable', 'stable', 'stable', '15', 'A'],\n",
       " [12,\n",
       "  'mid',\n",
       "  'low',\n",
       "  'good',\n",
       "  'high',\n",
       "  'stable',\n",
       "  'stable',\n",
       "  'mod-stable',\n",
       "  '10',\n",
       "  'A'],\n",
       " [13,\n",
       "  'high',\n",
       "  'high',\n",
       "  'excellent',\n",
       "  'high',\n",
       "  'unstable',\n",
       "  'stable',\n",
       "  'unstable',\n",
       "  '15',\n",
       "  'A'],\n",
       " [14,\n",
       "  'mid',\n",
       "  'high',\n",
       "  'good',\n",
       "  'mid',\n",
       "  'unstable',\n",
       "  'stable',\n",
       "  'mod-stable',\n",
       "  '10',\n",
       "  'A'],\n",
       " [15,\n",
       "  'mid',\n",
       "  'low',\n",
       "  'good',\n",
       "  'high',\n",
       "  'unstable',\n",
       "  'unstable',\n",
       "  'stable',\n",
       "  '15',\n",
       "  'S'],\n",
       " [16,\n",
       "  'high',\n",
       "  'high',\n",
       "  'excellent',\n",
       "  'high',\n",
       "  'unstable',\n",
       "  'stable',\n",
       "  'unstable',\n",
       "  '10',\n",
       "  'A'],\n",
       " [17,\n",
       "  'low',\n",
       "  'high',\n",
       "  'good',\n",
       "  'high',\n",
       "  'unstable',\n",
       "  'stable',\n",
       "  'mod-stable',\n",
       "  '15',\n",
       "  'A'],\n",
       " [18, 'mid', 'low', 'good', 'high', 'unstable', 'stable', 'stable', '10', 'A'],\n",
       " [19,\n",
       "  'mid',\n",
       "  'high',\n",
       "  'good',\n",
       "  'mid',\n",
       "  'unstable',\n",
       "  'stable',\n",
       "  'unstable',\n",
       "  '15',\n",
       "  'A'],\n",
       " [20, 'mid', 'mid', 'good', 'mid', 'stable', 'stable', 'stable', '10', 'A'],\n",
       " [21, 'low', 'high', 'good', 'mid', 'unstable', 'stable', 'stable', '15', 'A'],\n",
       " [22,\n",
       "  'low',\n",
       "  'mid',\n",
       "  'excellent',\n",
       "  'high',\n",
       "  'unstable',\n",
       "  'stable',\n",
       "  'unstable',\n",
       "  '10',\n",
       "  'S'],\n",
       " [23,\n",
       "  'mid',\n",
       "  'mid',\n",
       "  'good',\n",
       "  'mid',\n",
       "  'unstable',\n",
       "  'stable',\n",
       "  'unstable',\n",
       "  '15',\n",
       "  'A'],\n",
       " [24, 'mid', 'mid', 'good', 'mid', 'unstable', 'stable', 'stable', '10', 'A'],\n",
       " [25,\n",
       "  'high',\n",
       "  'high',\n",
       "  'good',\n",
       "  'mid',\n",
       "  'stable',\n",
       "  'stable',\n",
       "  'mod-stable',\n",
       "  '10',\n",
       "  'A'],\n",
       " [26, 'low', 'mid', 'good', 'mid', 'unstable', 'stable', 'stable', '10', 'A'],\n",
       " [27,\n",
       "  'high',\n",
       "  'mid',\n",
       "  'good',\n",
       "  'low',\n",
       "  'stable',\n",
       "  'stable',\n",
       "  'mod-stable',\n",
       "  '10',\n",
       "  'A'],\n",
       " [28,\n",
       "  'low',\n",
       "  'mid',\n",
       "  'excellent',\n",
       "  'high',\n",
       "  'stable',\n",
       "  'stable',\n",
       "  'mod-stable',\n",
       "  '10',\n",
       "  'A'],\n",
       " [29,\n",
       "  'mid',\n",
       "  'mid',\n",
       "  'excellent',\n",
       "  'mid',\n",
       "  'stable',\n",
       "  'stable',\n",
       "  'unstable',\n",
       "  '15',\n",
       "  'A'],\n",
       " [30,\n",
       "  'mid',\n",
       "  'mid',\n",
       "  'good',\n",
       "  'mid',\n",
       "  'unstable',\n",
       "  'stable',\n",
       "  'unstable',\n",
       "  '10',\n",
       "  'S'],\n",
       " [31, 'mid', 'mid', 'good', 'high', 'unstable', 'stable', 'stable', '10', 'A'],\n",
       " [32,\n",
       "  'low',\n",
       "  'low',\n",
       "  'good',\n",
       "  'mid',\n",
       "  'unstable',\n",
       "  'stable',\n",
       "  'unstable',\n",
       "  '10',\n",
       "  'A'],\n",
       " [33,\n",
       "  'mid',\n",
       "  'mid',\n",
       "  'excellent',\n",
       "  'high',\n",
       "  'unstable',\n",
       "  'stable',\n",
       "  'mod-stable',\n",
       "  '10',\n",
       "  'A'],\n",
       " [34, 'mid', 'low', 'good', 'mid', 'stable', 'stable', 'stable', '10', 'A'],\n",
       " [35,\n",
       "  'low',\n",
       "  'mid',\n",
       "  'excellent',\n",
       "  'high',\n",
       "  'stable',\n",
       "  'stable',\n",
       "  'mod-stable',\n",
       "  '10',\n",
       "  'A'],\n",
       " [36, 'mid', 'mid', 'good', 'mid', 'stable', 'stable', 'stable', '10', 'A'],\n",
       " [37,\n",
       "  'low',\n",
       "  'mid',\n",
       "  'excellent',\n",
       "  'mid',\n",
       "  'stable',\n",
       "  'stable',\n",
       "  'stable',\n",
       "  '10',\n",
       "  'S'],\n",
       " [38,\n",
       "  'low',\n",
       "  'low',\n",
       "  'good',\n",
       "  'mid',\n",
       "  'unstable',\n",
       "  'stable',\n",
       "  'unstable',\n",
       "  '10',\n",
       "  'S'],\n",
       " [39, 'low', 'low', 'good', 'mid', 'stable', 'stable', 'stable', '07', 'S'],\n",
       " [40,\n",
       "  'mid',\n",
       "  'mid',\n",
       "  'good',\n",
       "  'high',\n",
       "  'unstable',\n",
       "  'stable',\n",
       "  'mod-stable',\n",
       "  '10',\n",
       "  'A'],\n",
       " [41, 'low', 'low', 'good', 'mid', 'unstable', 'stable', 'stable', '10', 'A'],\n",
       " [42, 'low', 'mid', 'good', 'mid', 'stable', 'stable', 'stable', '15', 'S'],\n",
       " [43,\n",
       "  'high',\n",
       "  'high',\n",
       "  'good',\n",
       "  'high',\n",
       "  'unstable',\n",
       "  'stable',\n",
       "  'stable',\n",
       "  '15',\n",
       "  'S'],\n",
       " [44, 'mid', 'mid', 'good', 'mid', 'stable', 'stable', 'stable', '10', 'S'],\n",
       " [45,\n",
       "  'low',\n",
       "  'low',\n",
       "  'excellent',\n",
       "  'mid',\n",
       "  'stable',\n",
       "  'stable',\n",
       "  'stable',\n",
       "  '10',\n",
       "  'A'],\n",
       " [46, 'low', 'mid', 'good', 'mid', 'unstable', 'stable', 'stable', '10', 'S'],\n",
       " [47, 'low', 'mid', 'good', 'high', 'unstable', 'stable', 'stable', '?', 'I'],\n",
       " [48,\n",
       "  'mid',\n",
       "  'mid',\n",
       "  'excellent',\n",
       "  'mid',\n",
       "  'unstable',\n",
       "  'stable',\n",
       "  'stable',\n",
       "  '10',\n",
       "  'A'],\n",
       " [49,\n",
       "  'high',\n",
       "  'high',\n",
       "  'excellent',\n",
       "  'high',\n",
       "  'stable',\n",
       "  'stable',\n",
       "  'unstable',\n",
       "  '?',\n",
       "  'A'],\n",
       " [50, 'mid', 'high', 'good', 'low', 'unstable', 'stable', 'stable', '10', 'A'],\n",
       " [51,\n",
       "  'mid',\n",
       "  'high',\n",
       "  'good',\n",
       "  'mid',\n",
       "  'unstable',\n",
       "  'mod-stable',\n",
       "  'mod-stable',\n",
       "  '10',\n",
       "  'A'],\n",
       " [52,\n",
       "  'low',\n",
       "  'high',\n",
       "  'excellent',\n",
       "  'mid',\n",
       "  'unstable',\n",
       "  'stable',\n",
       "  'stable',\n",
       "  '10',\n",
       "  'A'],\n",
       " [53,\n",
       "  'mid',\n",
       "  'low',\n",
       "  'excellent',\n",
       "  'high',\n",
       "  'unstable',\n",
       "  'stable',\n",
       "  'unstable',\n",
       "  '10',\n",
       "  'A'],\n",
       " [54,\n",
       "  'mid',\n",
       "  'mid',\n",
       "  'good',\n",
       "  'mid',\n",
       "  'unstable',\n",
       "  'stable',\n",
       "  'mod-stable',\n",
       "  '10',\n",
       "  'S'],\n",
       " [55,\n",
       "  'high',\n",
       "  'high',\n",
       "  'excellent',\n",
       "  'mid',\n",
       "  'unstable',\n",
       "  'stable',\n",
       "  'mod-stable',\n",
       "  '10',\n",
       "  'A'],\n",
       " [56, 'mid', 'mid', 'good', 'mid', 'unstable', 'stable', 'stable', '15', 'A'],\n",
       " [57,\n",
       "  'high',\n",
       "  'mid',\n",
       "  'good',\n",
       "  'high',\n",
       "  'stable',\n",
       "  'stable',\n",
       "  'unstable',\n",
       "  '15',\n",
       "  'A'],\n",
       " [58,\n",
       "  'mid',\n",
       "  'low',\n",
       "  'good',\n",
       "  'high',\n",
       "  'unstable',\n",
       "  'stable',\n",
       "  'mod-stable',\n",
       "  '10',\n",
       "  'A'],\n",
       " [59, 'low', 'low', 'good', 'high', 'stable', 'stable', 'stable', '10', 'A'],\n",
       " [60,\n",
       "  'mid',\n",
       "  'high',\n",
       "  'good',\n",
       "  'mid',\n",
       "  'stable',\n",
       "  'stable',\n",
       "  'mod-stable',\n",
       "  '10',\n",
       "  'A'],\n",
       " [61,\n",
       "  'mid',\n",
       "  'high',\n",
       "  'good',\n",
       "  'mid',\n",
       "  'unstable',\n",
       "  'stable',\n",
       "  'unstable',\n",
       "  '10',\n",
       "  'A'],\n",
       " [62,\n",
       "  'mid',\n",
       "  'low',\n",
       "  'excellent',\n",
       "  'high',\n",
       "  'stable',\n",
       "  'stable',\n",
       "  'stable',\n",
       "  '10',\n",
       "  'A'],\n",
       " [63, 'mid', 'mid', 'good', 'mid', 'stable', 'stable', 'unstable', '10', 'A'],\n",
       " [64,\n",
       "  'mid',\n",
       "  'low',\n",
       "  'excellent',\n",
       "  'mid',\n",
       "  'stable',\n",
       "  'stable',\n",
       "  'unstable',\n",
       "  '10',\n",
       "  'S'],\n",
       " [65,\n",
       "  'high',\n",
       "  'mid',\n",
       "  'excellent',\n",
       "  'mid',\n",
       "  'unstable',\n",
       "  'unstable',\n",
       "  'unstable',\n",
       "  '10',\n",
       "  'A'],\n",
       " [66, 'mid', 'mid', 'good', 'high', 'stable', 'stable', 'stable', '10', 'S'],\n",
       " [67,\n",
       "  'mid',\n",
       "  'low',\n",
       "  'excellent',\n",
       "  'mid',\n",
       "  'unstable',\n",
       "  'stable',\n",
       "  'stable',\n",
       "  '10',\n",
       "  'A'],\n",
       " [68,\n",
       "  'mid',\n",
       "  'mid',\n",
       "  'excellent',\n",
       "  'mid',\n",
       "  'unstable',\n",
       "  'stable',\n",
       "  'stable',\n",
       "  '10',\n",
       "  'A'],\n",
       " [69,\n",
       "  'mid',\n",
       "  'mid',\n",
       "  'excellent',\n",
       "  'high',\n",
       "  'stable',\n",
       "  'stable',\n",
       "  'stable',\n",
       "  '10',\n",
       "  'A'],\n",
       " [70,\n",
       "  'mid',\n",
       "  'mid',\n",
       "  'excellent',\n",
       "  'low',\n",
       "  'stable',\n",
       "  'stable',\n",
       "  'stable',\n",
       "  '10',\n",
       "  'A'],\n",
       " [71,\n",
       "  'mid',\n",
       "  'low',\n",
       "  'excellent',\n",
       "  'mid',\n",
       "  'unstable',\n",
       "  'unstable',\n",
       "  'unstable',\n",
       "  '?',\n",
       "  'A'],\n",
       " [72,\n",
       "  'low',\n",
       "  'low',\n",
       "  'excellent',\n",
       "  'mid',\n",
       "  'stable',\n",
       "  'stable',\n",
       "  'stable',\n",
       "  '10',\n",
       "  'A'],\n",
       " [73,\n",
       "  'mid',\n",
       "  'mid',\n",
       "  'excellent',\n",
       "  'mid',\n",
       "  'stable',\n",
       "  'stable',\n",
       "  'mod-stable',\n",
       "  '10',\n",
       "  'S'],\n",
       " [74,\n",
       "  'mid',\n",
       "  'mid',\n",
       "  'excellent',\n",
       "  'high',\n",
       "  'stable',\n",
       "  'stable',\n",
       "  'stable',\n",
       "  '10',\n",
       "  'A'],\n",
       " [75,\n",
       "  'mid',\n",
       "  'low',\n",
       "  'excellent',\n",
       "  'high',\n",
       "  'stable',\n",
       "  'stable',\n",
       "  'mod-stable',\n",
       "  '10',\n",
       "  'A'],\n",
       " [76, 'low', 'mid', 'good', 'mid', 'stable', 'stable', 'unstable', '10', 'A'],\n",
       " [77,\n",
       "  'mid',\n",
       "  'mid',\n",
       "  'excellent',\n",
       "  'mid',\n",
       "  'stable',\n",
       "  'stable',\n",
       "  'mod-stable',\n",
       "  '10',\n",
       "  'A'],\n",
       " [78,\n",
       "  'mid',\n",
       "  'mid',\n",
       "  'excellent',\n",
       "  'mid',\n",
       "  'stable',\n",
       "  'stable',\n",
       "  'unstable',\n",
       "  '10',\n",
       "  'A'],\n",
       " [79,\n",
       "  'mid',\n",
       "  'mid',\n",
       "  'excellent',\n",
       "  'mid',\n",
       "  'unstable',\n",
       "  'unstable',\n",
       "  'stable',\n",
       "  '10',\n",
       "  'S'],\n",
       " [80, 'mid', 'mid', 'good', 'high', 'stable', 'stable', 'stable', '10', 'A'],\n",
       " [81,\n",
       "  'mid',\n",
       "  'mid',\n",
       "  'excellent',\n",
       "  'mid',\n",
       "  'stable',\n",
       "  'stable',\n",
       "  'stable',\n",
       "  '15',\n",
       "  'A'],\n",
       " [82,\n",
       "  'mid',\n",
       "  'mid',\n",
       "  'excellent',\n",
       "  'mid',\n",
       "  'stable',\n",
       "  'stable',\n",
       "  'stable',\n",
       "  '10',\n",
       "  'S'],\n",
       " [83, 'mid', 'low', 'good', 'mid', 'stable', 'stable', 'unstable', '10', 'I'],\n",
       " [84,\n",
       "  'high',\n",
       "  'mid',\n",
       "  'excellent',\n",
       "  'mid',\n",
       "  'unstable',\n",
       "  'stable',\n",
       "  'unstable',\n",
       "  '05',\n",
       "  'A'],\n",
       " [85,\n",
       "  'mid',\n",
       "  'mid',\n",
       "  'excellent',\n",
       "  'mid',\n",
       "  'stable',\n",
       "  'stable',\n",
       "  'unstable',\n",
       "  '10',\n",
       "  'A'],\n",
       " [86,\n",
       "  'mid',\n",
       "  'mid',\n",
       "  'excellent',\n",
       "  'mid',\n",
       "  'unstable',\n",
       "  'stable',\n",
       "  'stable',\n",
       "  '10',\n",
       "  'A'],\n",
       " [87,\n",
       "  'mid',\n",
       "  'mid',\n",
       "  'excellent',\n",
       "  'mid',\n",
       "  'unstable',\n",
       "  'stable',\n",
       "  'stable',\n",
       "  '15',\n",
       "  'S'],\n",
       " [88, 'mid', 'mid', 'good', 'mid', 'unstable', 'stable', 'stable', '15', 'A'],\n",
       " [89,\n",
       "  'mid',\n",
       "  'mid',\n",
       "  'excellent',\n",
       "  'mid',\n",
       "  'unstable',\n",
       "  'stable',\n",
       "  'stable',\n",
       "  '10',\n",
       "  'A'],\n",
       " [90, 'mid', 'mid', 'good', 'mid', 'unstable', 'stable', 'stable', '15', 'S']]"
      ]
     },
     "execution_count": 112,
     "metadata": {},
     "output_type": "execute_result"
    }
   ],
   "source": [
    "a_list = df.values.tolist()\n",
    "\n",
    "a_list"
   ]
  },
  {
   "cell_type": "markdown",
   "metadata": {},
   "source": [
    "Label Encoding"
   ]
  },
  {
   "cell_type": "code",
   "execution_count": 113,
   "metadata": {},
   "outputs": [],
   "source": [
    "from sklearn.preprocessing import LabelEncoder\n",
    "\n",
    "le = LabelEncoder()\n",
    "\n",
    "C = list(map(list, zip(*a_list)))"
   ]
  },
  {
   "cell_type": "code",
   "execution_count": 114,
   "metadata": {},
   "outputs": [],
   "source": [
    "string = []\n",
    "for i in range(len(C)):\n",
    "    if any(type(s) == str for s in C[i]):\n",
    "        string.append(i)"
   ]
  },
  {
   "cell_type": "code",
   "execution_count": 115,
   "metadata": {},
   "outputs": [
    {
     "name": "stdout",
     "output_type": "stream",
     "text": [
      "['high' 'low' 'mid']\n",
      "['high' 'low' 'mid']\n",
      "['excellent' 'good']\n",
      "['high' 'low' 'mid']\n",
      "['stable' 'unstable']\n",
      "['mod-stable' 'stable' 'unstable']\n",
      "['mod-stable' 'stable' 'unstable']\n",
      "['05' '07' '10' '15' '?']\n",
      "['A' 'I' 'S']\n"
     ]
    }
   ],
   "source": [
    "for i in string:\n",
    "    le.fit(C[i])\n",
    "    print(le.classes_)\n",
    "    C[i] = list(le.transform(C[i]))"
   ]
  },
  {
   "cell_type": "code",
   "execution_count": 116,
   "metadata": {},
   "outputs": [
    {
     "data": {
      "text/plain": [
       "[[1, 2, 1, 0, 2, 0, 1, 1, 3, 0],\n",
       " [2, 2, 0, 0, 0, 0, 1, 1, 2, 2],\n",
       " [3, 0, 1, 0, 0, 0, 1, 0, 2, 0],\n",
       " [4, 2, 1, 1, 0, 0, 2, 0, 3, 0],\n",
       " [5, 2, 2, 0, 0, 0, 1, 1, 2, 0],\n",
       " [6, 0, 1, 1, 2, 0, 1, 2, 3, 2],\n",
       " [7, 2, 1, 0, 0, 0, 1, 0, 0, 2],\n",
       " [8, 0, 2, 0, 2, 1, 2, 1, 2, 2],\n",
       " [9, 2, 0, 1, 2, 0, 1, 1, 2, 2],\n",
       " [10, 2, 1, 0, 2, 1, 1, 0, 2, 2],\n",
       " [11, 2, 2, 1, 2, 0, 1, 1, 3, 0],\n",
       " [12, 2, 1, 1, 0, 0, 1, 0, 2, 0],\n",
       " [13, 0, 0, 0, 0, 1, 1, 2, 3, 0],\n",
       " [14, 2, 0, 1, 2, 1, 1, 0, 2, 0],\n",
       " [15, 2, 1, 1, 0, 1, 2, 1, 3, 2],\n",
       " [16, 0, 0, 0, 0, 1, 1, 2, 2, 0],\n",
       " [17, 1, 0, 1, 0, 1, 1, 0, 3, 0],\n",
       " [18, 2, 1, 1, 0, 1, 1, 1, 2, 0],\n",
       " [19, 2, 0, 1, 2, 1, 1, 2, 3, 0],\n",
       " [20, 2, 2, 1, 2, 0, 1, 1, 2, 0],\n",
       " [21, 1, 0, 1, 2, 1, 1, 1, 3, 0],\n",
       " [22, 1, 2, 0, 0, 1, 1, 2, 2, 2],\n",
       " [23, 2, 2, 1, 2, 1, 1, 2, 3, 0],\n",
       " [24, 2, 2, 1, 2, 1, 1, 1, 2, 0],\n",
       " [25, 0, 0, 1, 2, 0, 1, 0, 2, 0],\n",
       " [26, 1, 2, 1, 2, 1, 1, 1, 2, 0],\n",
       " [27, 0, 2, 1, 1, 0, 1, 0, 2, 0],\n",
       " [28, 1, 2, 0, 0, 0, 1, 0, 2, 0],\n",
       " [29, 2, 2, 0, 2, 0, 1, 2, 3, 0],\n",
       " [30, 2, 2, 1, 2, 1, 1, 2, 2, 2],\n",
       " [31, 2, 2, 1, 0, 1, 1, 1, 2, 0],\n",
       " [32, 1, 1, 1, 2, 1, 1, 2, 2, 0],\n",
       " [33, 2, 2, 0, 0, 1, 1, 0, 2, 0],\n",
       " [34, 2, 1, 1, 2, 0, 1, 1, 2, 0],\n",
       " [35, 1, 2, 0, 0, 0, 1, 0, 2, 0],\n",
       " [36, 2, 2, 1, 2, 0, 1, 1, 2, 0],\n",
       " [37, 1, 2, 0, 2, 0, 1, 1, 2, 2],\n",
       " [38, 1, 1, 1, 2, 1, 1, 2, 2, 2],\n",
       " [39, 1, 1, 1, 2, 0, 1, 1, 1, 2],\n",
       " [40, 2, 2, 1, 0, 1, 1, 0, 2, 0],\n",
       " [41, 1, 1, 1, 2, 1, 1, 1, 2, 0],\n",
       " [42, 1, 2, 1, 2, 0, 1, 1, 3, 2],\n",
       " [43, 0, 0, 1, 0, 1, 1, 1, 3, 2],\n",
       " [44, 2, 2, 1, 2, 0, 1, 1, 2, 2],\n",
       " [45, 1, 1, 0, 2, 0, 1, 1, 2, 0],\n",
       " [46, 1, 2, 1, 2, 1, 1, 1, 2, 2],\n",
       " [47, 1, 2, 1, 0, 1, 1, 1, 4, 1],\n",
       " [48, 2, 2, 0, 2, 1, 1, 1, 2, 0],\n",
       " [49, 0, 0, 0, 0, 0, 1, 2, 4, 0],\n",
       " [50, 2, 0, 1, 1, 1, 1, 1, 2, 0],\n",
       " [51, 2, 0, 1, 2, 1, 0, 0, 2, 0],\n",
       " [52, 1, 0, 0, 2, 1, 1, 1, 2, 0],\n",
       " [53, 2, 1, 0, 0, 1, 1, 2, 2, 0],\n",
       " [54, 2, 2, 1, 2, 1, 1, 0, 2, 2],\n",
       " [55, 0, 0, 0, 2, 1, 1, 0, 2, 0],\n",
       " [56, 2, 2, 1, 2, 1, 1, 1, 3, 0],\n",
       " [57, 0, 2, 1, 0, 0, 1, 2, 3, 0],\n",
       " [58, 2, 1, 1, 0, 1, 1, 0, 2, 0],\n",
       " [59, 1, 1, 1, 0, 0, 1, 1, 2, 0],\n",
       " [60, 2, 0, 1, 2, 0, 1, 0, 2, 0],\n",
       " [61, 2, 0, 1, 2, 1, 1, 2, 2, 0],\n",
       " [62, 2, 1, 0, 0, 0, 1, 1, 2, 0],\n",
       " [63, 2, 2, 1, 2, 0, 1, 2, 2, 0],\n",
       " [64, 2, 1, 0, 2, 0, 1, 2, 2, 2],\n",
       " [65, 0, 2, 0, 2, 1, 2, 2, 2, 0],\n",
       " [66, 2, 2, 1, 0, 0, 1, 1, 2, 2],\n",
       " [67, 2, 1, 0, 2, 1, 1, 1, 2, 0],\n",
       " [68, 2, 2, 0, 2, 1, 1, 1, 2, 0],\n",
       " [69, 2, 2, 0, 0, 0, 1, 1, 2, 0],\n",
       " [70, 2, 2, 0, 1, 0, 1, 1, 2, 0],\n",
       " [71, 2, 1, 0, 2, 1, 2, 2, 4, 0],\n",
       " [72, 1, 1, 0, 2, 0, 1, 1, 2, 0],\n",
       " [73, 2, 2, 0, 2, 0, 1, 0, 2, 2],\n",
       " [74, 2, 2, 0, 0, 0, 1, 1, 2, 0],\n",
       " [75, 2, 1, 0, 0, 0, 1, 0, 2, 0],\n",
       " [76, 1, 2, 1, 2, 0, 1, 2, 2, 0],\n",
       " [77, 2, 2, 0, 2, 0, 1, 0, 2, 0],\n",
       " [78, 2, 2, 0, 2, 0, 1, 2, 2, 0],\n",
       " [79, 2, 2, 0, 2, 1, 2, 1, 2, 2],\n",
       " [80, 2, 2, 1, 0, 0, 1, 1, 2, 0],\n",
       " [81, 2, 2, 0, 2, 0, 1, 1, 3, 0],\n",
       " [82, 2, 2, 0, 2, 0, 1, 1, 2, 2],\n",
       " [83, 2, 1, 1, 2, 0, 1, 2, 2, 1],\n",
       " [84, 0, 2, 0, 2, 1, 1, 2, 0, 0],\n",
       " [85, 2, 2, 0, 2, 0, 1, 2, 2, 0],\n",
       " [86, 2, 2, 0, 2, 1, 1, 1, 2, 0],\n",
       " [87, 2, 2, 0, 2, 1, 1, 1, 3, 2],\n",
       " [88, 2, 2, 1, 2, 1, 1, 1, 3, 0],\n",
       " [89, 2, 2, 0, 2, 1, 1, 1, 2, 0],\n",
       " [90, 2, 2, 1, 2, 1, 1, 1, 3, 2]]"
      ]
     },
     "execution_count": 116,
     "metadata": {},
     "output_type": "execute_result"
    }
   ],
   "source": [
    "C = list(map(list, zip(*C)))\n",
    "\n",
    "a_list_enc = C\n",
    "\n",
    "a_list_enc"
   ]
  },
  {
   "cell_type": "code",
   "execution_count": 117,
   "metadata": {},
   "outputs": [],
   "source": [
    "df=pd.DataFrame(data=a_list_enc)\n",
    "df.to_csv('a_list_enc.csv',index=False)"
   ]
  },
  {
   "cell_type": "markdown",
   "metadata": {},
   "source": [
    "Normalize"
   ]
  },
  {
   "cell_type": "code",
   "execution_count": 118,
   "metadata": {},
   "outputs": [],
   "source": [
    "import numpy as np\n",
    "from sklearn.preprocessing import MinMaxScaler, StandardScaler\n",
    "\n",
    "df = pd.read_csv('a_list_enc.csv')"
   ]
  },
  {
   "cell_type": "code",
   "execution_count": 119,
   "metadata": {},
   "outputs": [
    {
     "data": {
      "text/plain": [
       "array([[-1.71291154,  0.68111491, -0.44335508, -1.04547753,  0.74761983,\n",
       "        -1.        , -0.20327891, -0.03179815,  1.23743685,  0.        ],\n",
       "       [-1.67441914,  0.68111491, -1.73051498, -1.04547753, -1.38843682,\n",
       "        -1.        , -0.20327891, -0.03179815, -0.35355339,  2.        ],\n",
       "       [-1.63592675, -2.04334474, -0.44335508, -1.04547753, -1.38843682,\n",
       "        -1.        , -0.20327891, -1.46271484, -0.35355339,  0.        ],\n",
       "       [-1.59743435,  0.68111491, -0.44335508,  0.95650072, -1.38843682,\n",
       "        -1.        ,  3.45574144, -1.46271484,  1.23743685,  0.        ],\n",
       "       [-1.55894196,  0.68111491,  0.84380482, -1.04547753, -1.38843682,\n",
       "        -1.        , -0.20327891, -0.03179815, -0.35355339,  0.        ],\n",
       "       [-1.52044957, -2.04334474, -0.44335508,  0.95650072,  0.74761983,\n",
       "        -1.        , -0.20327891,  1.39911854,  1.23743685,  2.        ],\n",
       "       [-1.48195717,  0.68111491, -0.44335508, -1.04547753, -1.38843682,\n",
       "        -1.        , -0.20327891, -1.46271484, -3.53553387,  2.        ],\n",
       "       [-1.44346478, -2.04334474,  0.84380482, -1.04547753,  0.74761983,\n",
       "         1.        ,  3.45574144, -0.03179815, -0.35355339,  2.        ],\n",
       "       [-1.40497238,  0.68111491, -1.73051498,  0.95650072,  0.74761983,\n",
       "        -1.        , -0.20327891, -0.03179815, -0.35355339,  2.        ],\n",
       "       [-1.36647999,  0.68111491, -0.44335508, -1.04547753,  0.74761983,\n",
       "         1.        , -0.20327891, -1.46271484, -0.35355339,  2.        ],\n",
       "       [-1.3279876 ,  0.68111491,  0.84380482,  0.95650072,  0.74761983,\n",
       "        -1.        , -0.20327891, -0.03179815,  1.23743685,  0.        ],\n",
       "       [-1.2894952 ,  0.68111491, -0.44335508,  0.95650072, -1.38843682,\n",
       "        -1.        , -0.20327891, -1.46271484, -0.35355339,  0.        ],\n",
       "       [-1.25100281, -2.04334474, -1.73051498, -1.04547753, -1.38843682,\n",
       "         1.        , -0.20327891,  1.39911854,  1.23743685,  0.        ],\n",
       "       [-1.21251041,  0.68111491, -1.73051498,  0.95650072,  0.74761983,\n",
       "         1.        , -0.20327891, -1.46271484, -0.35355339,  0.        ],\n",
       "       [-1.17401802,  0.68111491, -0.44335508,  0.95650072, -1.38843682,\n",
       "         1.        ,  3.45574144, -0.03179815,  1.23743685,  2.        ],\n",
       "       [-1.13552563, -2.04334474, -1.73051498, -1.04547753, -1.38843682,\n",
       "         1.        , -0.20327891,  1.39911854, -0.35355339,  0.        ],\n",
       "       [-1.09703323, -0.68111491, -1.73051498,  0.95650072, -1.38843682,\n",
       "         1.        , -0.20327891, -1.46271484,  1.23743685,  0.        ],\n",
       "       [-1.05854084,  0.68111491, -0.44335508,  0.95650072, -1.38843682,\n",
       "         1.        , -0.20327891, -0.03179815, -0.35355339,  0.        ],\n",
       "       [-1.02004844,  0.68111491, -1.73051498,  0.95650072,  0.74761983,\n",
       "         1.        , -0.20327891,  1.39911854,  1.23743685,  0.        ],\n",
       "       [-0.98155605,  0.68111491,  0.84380482,  0.95650072,  0.74761983,\n",
       "        -1.        , -0.20327891, -0.03179815, -0.35355339,  0.        ],\n",
       "       [-0.94306366, -0.68111491, -1.73051498,  0.95650072,  0.74761983,\n",
       "         1.        , -0.20327891, -0.03179815,  1.23743685,  0.        ],\n",
       "       [-0.90457126, -0.68111491,  0.84380482, -1.04547753, -1.38843682,\n",
       "         1.        , -0.20327891,  1.39911854, -0.35355339,  2.        ],\n",
       "       [-0.86607887,  0.68111491,  0.84380482,  0.95650072,  0.74761983,\n",
       "         1.        , -0.20327891,  1.39911854,  1.23743685,  0.        ],\n",
       "       [-0.82758647,  0.68111491,  0.84380482,  0.95650072,  0.74761983,\n",
       "         1.        , -0.20327891, -0.03179815, -0.35355339,  0.        ],\n",
       "       [-0.78909408, -2.04334474, -1.73051498,  0.95650072,  0.74761983,\n",
       "        -1.        , -0.20327891, -1.46271484, -0.35355339,  0.        ],\n",
       "       [-0.75060168, -0.68111491,  0.84380482,  0.95650072,  0.74761983,\n",
       "         1.        , -0.20327891, -0.03179815, -0.35355339,  0.        ],\n",
       "       [-0.71210929, -2.04334474,  0.84380482,  0.95650072, -0.3204085 ,\n",
       "        -1.        , -0.20327891, -1.46271484, -0.35355339,  0.        ],\n",
       "       [-0.6736169 , -0.68111491,  0.84380482, -1.04547753, -1.38843682,\n",
       "        -1.        , -0.20327891, -1.46271484, -0.35355339,  0.        ],\n",
       "       [-0.6351245 ,  0.68111491,  0.84380482, -1.04547753,  0.74761983,\n",
       "        -1.        , -0.20327891,  1.39911854,  1.23743685,  0.        ],\n",
       "       [-0.59663211,  0.68111491,  0.84380482,  0.95650072,  0.74761983,\n",
       "         1.        , -0.20327891,  1.39911854, -0.35355339,  2.        ],\n",
       "       [-0.55813971,  0.68111491,  0.84380482,  0.95650072, -1.38843682,\n",
       "         1.        , -0.20327891, -0.03179815, -0.35355339,  0.        ],\n",
       "       [-0.51964732, -0.68111491, -0.44335508,  0.95650072,  0.74761983,\n",
       "         1.        , -0.20327891,  1.39911854, -0.35355339,  0.        ],\n",
       "       [-0.48115493,  0.68111491,  0.84380482, -1.04547753, -1.38843682,\n",
       "         1.        , -0.20327891, -1.46271484, -0.35355339,  0.        ],\n",
       "       [-0.44266253,  0.68111491, -0.44335508,  0.95650072,  0.74761983,\n",
       "        -1.        , -0.20327891, -0.03179815, -0.35355339,  0.        ],\n",
       "       [-0.40417014, -0.68111491,  0.84380482, -1.04547753, -1.38843682,\n",
       "        -1.        , -0.20327891, -1.46271484, -0.35355339,  0.        ],\n",
       "       [-0.36567774,  0.68111491,  0.84380482,  0.95650072,  0.74761983,\n",
       "        -1.        , -0.20327891, -0.03179815, -0.35355339,  0.        ],\n",
       "       [-0.32718535, -0.68111491,  0.84380482, -1.04547753,  0.74761983,\n",
       "        -1.        , -0.20327891, -0.03179815, -0.35355339,  2.        ],\n",
       "       [-0.28869296, -0.68111491, -0.44335508,  0.95650072,  0.74761983,\n",
       "         1.        , -0.20327891,  1.39911854, -0.35355339,  2.        ],\n",
       "       [-0.25020056, -0.68111491, -0.44335508,  0.95650072,  0.74761983,\n",
       "        -1.        , -0.20327891, -0.03179815, -1.94454363,  2.        ],\n",
       "       [-0.21170817,  0.68111491,  0.84380482,  0.95650072, -1.38843682,\n",
       "         1.        , -0.20327891, -1.46271484, -0.35355339,  0.        ],\n",
       "       [-0.17321577, -0.68111491, -0.44335508,  0.95650072,  0.74761983,\n",
       "         1.        , -0.20327891, -0.03179815, -0.35355339,  0.        ],\n",
       "       [-0.13472338, -0.68111491,  0.84380482,  0.95650072,  0.74761983,\n",
       "        -1.        , -0.20327891, -0.03179815,  1.23743685,  2.        ],\n",
       "       [-0.09623099, -2.04334474, -1.73051498,  0.95650072, -1.38843682,\n",
       "         1.        , -0.20327891, -0.03179815,  1.23743685,  2.        ],\n",
       "       [-0.05773859,  0.68111491,  0.84380482,  0.95650072,  0.74761983,\n",
       "        -1.        , -0.20327891, -0.03179815, -0.35355339,  2.        ],\n",
       "       [-0.0192462 , -0.68111491, -0.44335508, -1.04547753,  0.74761983,\n",
       "        -1.        , -0.20327891, -0.03179815, -0.35355339,  0.        ],\n",
       "       [ 0.0192462 , -0.68111491,  0.84380482,  0.95650072,  0.74761983,\n",
       "         1.        , -0.20327891, -0.03179815, -0.35355339,  2.        ],\n",
       "       [ 0.05773859, -0.68111491,  0.84380482,  0.95650072, -1.38843682,\n",
       "         1.        , -0.20327891, -0.03179815,  2.82842709,  1.        ],\n",
       "       [ 0.09623099,  0.68111491,  0.84380482, -1.04547753,  0.74761983,\n",
       "         1.        , -0.20327891, -0.03179815, -0.35355339,  0.        ],\n",
       "       [ 0.13472338, -2.04334474, -1.73051498, -1.04547753, -1.38843682,\n",
       "        -1.        , -0.20327891,  1.39911854,  2.82842709,  0.        ],\n",
       "       [ 0.17321577,  0.68111491, -1.73051498,  0.95650072, -0.3204085 ,\n",
       "         1.        , -0.20327891, -0.03179815, -0.35355339,  0.        ],\n",
       "       [ 0.21170817,  0.68111491, -1.73051498,  0.95650072,  0.74761983,\n",
       "         1.        , -3.86229925, -1.46271484, -0.35355339,  0.        ],\n",
       "       [ 0.25020056, -0.68111491, -1.73051498, -1.04547753,  0.74761983,\n",
       "         1.        , -0.20327891, -0.03179815, -0.35355339,  0.        ],\n",
       "       [ 0.28869296,  0.68111491, -0.44335508, -1.04547753, -1.38843682,\n",
       "         1.        , -0.20327891,  1.39911854, -0.35355339,  0.        ],\n",
       "       [ 0.32718535,  0.68111491,  0.84380482,  0.95650072,  0.74761983,\n",
       "         1.        , -0.20327891, -1.46271484, -0.35355339,  2.        ],\n",
       "       [ 0.36567774, -2.04334474, -1.73051498, -1.04547753,  0.74761983,\n",
       "         1.        , -0.20327891, -1.46271484, -0.35355339,  0.        ],\n",
       "       [ 0.40417014,  0.68111491,  0.84380482,  0.95650072,  0.74761983,\n",
       "         1.        , -0.20327891, -0.03179815,  1.23743685,  0.        ],\n",
       "       [ 0.44266253, -2.04334474,  0.84380482,  0.95650072, -1.38843682,\n",
       "        -1.        , -0.20327891,  1.39911854,  1.23743685,  0.        ],\n",
       "       [ 0.48115493,  0.68111491, -0.44335508,  0.95650072, -1.38843682,\n",
       "         1.        , -0.20327891, -1.46271484, -0.35355339,  0.        ],\n",
       "       [ 0.51964732, -0.68111491, -0.44335508,  0.95650072, -1.38843682,\n",
       "        -1.        , -0.20327891, -0.03179815, -0.35355339,  0.        ],\n",
       "       [ 0.55813971,  0.68111491, -1.73051498,  0.95650072,  0.74761983,\n",
       "        -1.        , -0.20327891, -1.46271484, -0.35355339,  0.        ],\n",
       "       [ 0.59663211,  0.68111491, -1.73051498,  0.95650072,  0.74761983,\n",
       "         1.        , -0.20327891,  1.39911854, -0.35355339,  0.        ],\n",
       "       [ 0.6351245 ,  0.68111491, -0.44335508, -1.04547753, -1.38843682,\n",
       "        -1.        , -0.20327891, -0.03179815, -0.35355339,  0.        ],\n",
       "       [ 0.6736169 ,  0.68111491,  0.84380482,  0.95650072,  0.74761983,\n",
       "        -1.        , -0.20327891,  1.39911854, -0.35355339,  0.        ],\n",
       "       [ 0.71210929,  0.68111491, -0.44335508, -1.04547753,  0.74761983,\n",
       "        -1.        , -0.20327891,  1.39911854, -0.35355339,  2.        ],\n",
       "       [ 0.75060168, -2.04334474,  0.84380482, -1.04547753,  0.74761983,\n",
       "         1.        ,  3.45574144,  1.39911854, -0.35355339,  0.        ],\n",
       "       [ 0.78909408,  0.68111491,  0.84380482,  0.95650072, -1.38843682,\n",
       "        -1.        , -0.20327891, -0.03179815, -0.35355339,  2.        ],\n",
       "       [ 0.82758647,  0.68111491, -0.44335508, -1.04547753,  0.74761983,\n",
       "         1.        , -0.20327891, -0.03179815, -0.35355339,  0.        ],\n",
       "       [ 0.86607887,  0.68111491,  0.84380482, -1.04547753,  0.74761983,\n",
       "         1.        , -0.20327891, -0.03179815, -0.35355339,  0.        ],\n",
       "       [ 0.90457126,  0.68111491,  0.84380482, -1.04547753, -1.38843682,\n",
       "        -1.        , -0.20327891, -0.03179815, -0.35355339,  0.        ],\n",
       "       [ 0.94306366,  0.68111491,  0.84380482, -1.04547753, -0.3204085 ,\n",
       "        -1.        , -0.20327891, -0.03179815, -0.35355339,  0.        ],\n",
       "       [ 0.98155605,  0.68111491, -0.44335508, -1.04547753,  0.74761983,\n",
       "         1.        ,  3.45574144,  1.39911854,  2.82842709,  0.        ],\n",
       "       [ 1.02004844, -0.68111491, -0.44335508, -1.04547753,  0.74761983,\n",
       "        -1.        , -0.20327891, -0.03179815, -0.35355339,  0.        ],\n",
       "       [ 1.05854084,  0.68111491,  0.84380482, -1.04547753,  0.74761983,\n",
       "        -1.        , -0.20327891, -1.46271484, -0.35355339,  2.        ],\n",
       "       [ 1.09703323,  0.68111491,  0.84380482, -1.04547753, -1.38843682,\n",
       "        -1.        , -0.20327891, -0.03179815, -0.35355339,  0.        ],\n",
       "       [ 1.13552563,  0.68111491, -0.44335508, -1.04547753, -1.38843682,\n",
       "        -1.        , -0.20327891, -1.46271484, -0.35355339,  0.        ],\n",
       "       [ 1.17401802, -0.68111491,  0.84380482,  0.95650072,  0.74761983,\n",
       "        -1.        , -0.20327891,  1.39911854, -0.35355339,  0.        ],\n",
       "       [ 1.21251041,  0.68111491,  0.84380482, -1.04547753,  0.74761983,\n",
       "        -1.        , -0.20327891, -1.46271484, -0.35355339,  0.        ],\n",
       "       [ 1.25100281,  0.68111491,  0.84380482, -1.04547753,  0.74761983,\n",
       "        -1.        , -0.20327891,  1.39911854, -0.35355339,  0.        ],\n",
       "       [ 1.2894952 ,  0.68111491,  0.84380482, -1.04547753,  0.74761983,\n",
       "         1.        ,  3.45574144, -0.03179815, -0.35355339,  2.        ],\n",
       "       [ 1.3279876 ,  0.68111491,  0.84380482,  0.95650072, -1.38843682,\n",
       "        -1.        , -0.20327891, -0.03179815, -0.35355339,  0.        ],\n",
       "       [ 1.36647999,  0.68111491,  0.84380482, -1.04547753,  0.74761983,\n",
       "        -1.        , -0.20327891, -0.03179815,  1.23743685,  0.        ],\n",
       "       [ 1.40497238,  0.68111491,  0.84380482, -1.04547753,  0.74761983,\n",
       "        -1.        , -0.20327891, -0.03179815, -0.35355339,  2.        ],\n",
       "       [ 1.44346478,  0.68111491, -0.44335508,  0.95650072,  0.74761983,\n",
       "        -1.        , -0.20327891,  1.39911854, -0.35355339,  1.        ],\n",
       "       [ 1.48195717, -2.04334474,  0.84380482, -1.04547753,  0.74761983,\n",
       "         1.        , -0.20327891,  1.39911854, -3.53553387,  0.        ],\n",
       "       [ 1.52044957,  0.68111491,  0.84380482, -1.04547753,  0.74761983,\n",
       "        -1.        , -0.20327891,  1.39911854, -0.35355339,  0.        ],\n",
       "       [ 1.55894196,  0.68111491,  0.84380482, -1.04547753,  0.74761983,\n",
       "         1.        , -0.20327891, -0.03179815, -0.35355339,  0.        ],\n",
       "       [ 1.59743435,  0.68111491,  0.84380482, -1.04547753,  0.74761983,\n",
       "         1.        , -0.20327891, -0.03179815,  1.23743685,  2.        ],\n",
       "       [ 1.63592675,  0.68111491,  0.84380482,  0.95650072,  0.74761983,\n",
       "         1.        , -0.20327891, -0.03179815,  1.23743685,  0.        ],\n",
       "       [ 1.67441914,  0.68111491,  0.84380482, -1.04547753,  0.74761983,\n",
       "         1.        , -0.20327891, -0.03179815, -0.35355339,  0.        ],\n",
       "       [ 1.71291154,  0.68111491,  0.84380482,  0.95650072,  0.74761983,\n",
       "         1.        , -0.20327891, -0.03179815,  1.23743685,  2.        ]])"
      ]
     },
     "execution_count": 119,
     "metadata": {},
     "output_type": "execute_result"
    }
   ],
   "source": [
    "scaler = StandardScaler()\n",
    "\n",
    "scaler.fit(np.float32(df.iloc[:,:-1]))\n",
    "\n",
    "data_scaled_std = scaler.transform(df.iloc[:,:-1])\n",
    "\n",
    "data_scaled_std\n",
    "\n",
    "label = df.iloc[:,9].to_frame()\n",
    "\n",
    "a_list_enc_norm = np.concatenate([data_scaled_std, label], axis=1)\n",
    "\n",
    "a_list_enc_norm"
   ]
  },
  {
   "cell_type": "code",
   "execution_count": 120,
   "metadata": {},
   "outputs": [],
   "source": [
    "a_list_enc_norm = pd.DataFrame(data=a_list_enc_norm)\n",
    "\n",
    "a_list_enc_norm.to_csv('a_list_enc_norm.csv',index=False)"
   ]
  },
  {
   "cell_type": "markdown",
   "metadata": {},
   "source": [
    "Divide train test"
   ]
  },
  {
   "cell_type": "code",
   "execution_count": 121,
   "metadata": {},
   "outputs": [],
   "source": [
    "from sklearn.model_selection import train_test_split\n",
    "\n",
    "df = pd.read_csv('a_list_enc_norm.csv')\n",
    "\n",
    "X_data = np.array(df.iloc[:,:9])\n",
    "\n",
    "Y_data = df.iloc[:,-1].to_numpy()\n",
    "\n",
    "\n",
    "\n",
    "X_train, X_test, Y_train, Y_test = train_test_split(X_data, Y_data, test_size = 0.33, random_state = 42)"
   ]
  },
  {
   "cell_type": "code",
   "execution_count": 122,
   "metadata": {},
   "outputs": [
    {
     "name": "stdout",
     "output_type": "stream",
     "text": [
      "[[-1.36647999  0.68111491 -0.44335508 -1.04547753  0.74761983  1.\n",
      "  -0.20327891 -1.46271484 -0.35355339]\n",
      " [ 0.90457126  0.68111491  0.84380482 -1.04547753 -1.38843682 -1.\n",
      "  -0.20327891 -0.03179815 -0.35355339]\n",
      " [-1.52044957 -2.04334474 -0.44335508  0.95650072  0.74761983 -1.\n",
      "  -0.20327891  1.39911854  1.23743685]\n",
      " [-0.09623099 -2.04334474 -1.73051498  0.95650072 -1.38843682  1.\n",
      "  -0.20327891 -0.03179815  1.23743685]\n",
      " [ 0.09623099  0.68111491  0.84380482 -1.04547753  0.74761983  1.\n",
      "  -0.20327891 -0.03179815 -0.35355339]\n",
      " [-1.09703323 -0.68111491 -1.73051498  0.95650072 -1.38843682  1.\n",
      "  -0.20327891 -1.46271484  1.23743685]\n",
      " [ 0.0192462  -0.68111491  0.84380482  0.95650072  0.74761983  1.\n",
      "  -0.20327891 -0.03179815 -0.35355339]\n",
      " [-0.40417014 -0.68111491  0.84380482 -1.04547753 -1.38843682 -1.\n",
      "  -0.20327891 -1.46271484 -0.35355339]\n",
      " [-1.44346478 -2.04334474  0.84380482 -1.04547753  0.74761983  1.\n",
      "   3.45574144 -0.03179815 -0.35355339]\n",
      " [ 1.2894952   0.68111491  0.84380482 -1.04547753  0.74761983  1.\n",
      "   3.45574144 -0.03179815 -0.35355339]\n",
      " [-0.6736169  -0.68111491  0.84380482 -1.04547753 -1.38843682 -1.\n",
      "  -0.20327891 -1.46271484 -0.35355339]\n",
      " [-0.98155605  0.68111491  0.84380482  0.95650072  0.74761983 -1.\n",
      "  -0.20327891 -0.03179815 -0.35355339]\n",
      " [ 1.52044957  0.68111491  0.84380482 -1.04547753  0.74761983 -1.\n",
      "  -0.20327891  1.39911854 -0.35355339]\n",
      " [-0.75060168 -0.68111491  0.84380482  0.95650072  0.74761983  1.\n",
      "  -0.20327891 -0.03179815 -0.35355339]\n",
      " [ 0.32718535  0.68111491  0.84380482  0.95650072  0.74761983  1.\n",
      "  -0.20327891 -1.46271484 -0.35355339]\n",
      " [-1.21251041  0.68111491 -1.73051498  0.95650072  0.74761983  1.\n",
      "  -0.20327891 -1.46271484 -0.35355339]\n",
      " [-0.78909408 -2.04334474 -1.73051498  0.95650072  0.74761983 -1.\n",
      "  -0.20327891 -1.46271484 -0.35355339]\n",
      " [-1.59743435  0.68111491 -0.44335508  0.95650072 -1.38843682 -1.\n",
      "   3.45574144 -1.46271484  1.23743685]\n",
      " [-1.05854084  0.68111491 -0.44335508  0.95650072 -1.38843682  1.\n",
      "  -0.20327891 -0.03179815 -0.35355339]\n",
      " [-0.25020056 -0.68111491 -0.44335508  0.95650072  0.74761983 -1.\n",
      "  -0.20327891 -0.03179815 -1.94454363]\n",
      " [-1.40497238  0.68111491 -1.73051498  0.95650072  0.74761983 -1.\n",
      "  -0.20327891 -0.03179815 -0.35355339]\n",
      " [ 1.63592675  0.68111491  0.84380482  0.95650072  0.74761983  1.\n",
      "  -0.20327891 -0.03179815  1.23743685]\n",
      " [-1.48195717  0.68111491 -0.44335508 -1.04547753 -1.38843682 -1.\n",
      "  -0.20327891 -1.46271484 -3.53553387]\n",
      " [ 0.75060168 -2.04334474  0.84380482 -1.04547753  0.74761983  1.\n",
      "   3.45574144  1.39911854 -0.35355339]\n",
      " [-0.32718535 -0.68111491  0.84380482 -1.04547753  0.74761983 -1.\n",
      "  -0.20327891 -0.03179815 -0.35355339]\n",
      " [ 1.36647999  0.68111491  0.84380482 -1.04547753  0.74761983 -1.\n",
      "  -0.20327891 -0.03179815  1.23743685]\n",
      " [ 1.71291154  0.68111491  0.84380482  0.95650072  0.74761983  1.\n",
      "  -0.20327891 -0.03179815  1.23743685]\n",
      " [ 0.36567774 -2.04334474 -1.73051498 -1.04547753  0.74761983  1.\n",
      "  -0.20327891 -1.46271484 -0.35355339]\n",
      " [-0.05773859  0.68111491  0.84380482  0.95650072  0.74761983 -1.\n",
      "  -0.20327891 -0.03179815 -0.35355339]\n",
      " [ 0.21170817  0.68111491 -1.73051498  0.95650072  0.74761983  1.\n",
      "  -3.86229925 -1.46271484 -0.35355339]\n",
      " [ 0.05773859 -0.68111491  0.84380482  0.95650072 -1.38843682  1.\n",
      "  -0.20327891 -0.03179815  2.82842709]\n",
      " [ 0.6351245   0.68111491 -0.44335508 -1.04547753 -1.38843682 -1.\n",
      "  -0.20327891 -0.03179815 -0.35355339]\n",
      " [ 1.67441914  0.68111491  0.84380482 -1.04547753  0.74761983  1.\n",
      "  -0.20327891 -0.03179815 -0.35355339]\n",
      " [-1.13552563 -2.04334474 -1.73051498 -1.04547753 -1.38843682  1.\n",
      "  -0.20327891  1.39911854 -0.35355339]\n",
      " [ 1.05854084  0.68111491  0.84380482 -1.04547753  0.74761983 -1.\n",
      "  -0.20327891 -1.46271484 -0.35355339]\n",
      " [-0.13472338 -0.68111491  0.84380482  0.95650072  0.74761983 -1.\n",
      "  -0.20327891 -0.03179815  1.23743685]\n",
      " [ 0.51964732 -0.68111491 -0.44335508  0.95650072 -1.38843682 -1.\n",
      "  -0.20327891 -0.03179815 -0.35355339]\n",
      " [ 0.13472338 -2.04334474 -1.73051498 -1.04547753 -1.38843682 -1.\n",
      "  -0.20327891  1.39911854  2.82842709]\n",
      " [ 1.3279876   0.68111491  0.84380482  0.95650072 -1.38843682 -1.\n",
      "  -0.20327891 -0.03179815 -0.35355339]\n",
      " [ 0.48115493  0.68111491 -0.44335508  0.95650072 -1.38843682  1.\n",
      "  -0.20327891 -1.46271484 -0.35355339]\n",
      " [-0.48115493  0.68111491  0.84380482 -1.04547753 -1.38843682  1.\n",
      "  -0.20327891 -1.46271484 -0.35355339]\n",
      " [ 1.55894196  0.68111491  0.84380482 -1.04547753  0.74761983  1.\n",
      "  -0.20327891 -0.03179815 -0.35355339]\n",
      " [ 0.55813971  0.68111491 -1.73051498  0.95650072  0.74761983 -1.\n",
      "  -0.20327891 -1.46271484 -0.35355339]\n",
      " [ 0.71210929  0.68111491 -0.44335508 -1.04547753  0.74761983 -1.\n",
      "  -0.20327891  1.39911854 -0.35355339]\n",
      " [ 1.25100281  0.68111491  0.84380482 -1.04547753  0.74761983 -1.\n",
      "  -0.20327891  1.39911854 -0.35355339]\n",
      " [-0.28869296 -0.68111491 -0.44335508  0.95650072  0.74761983  1.\n",
      "  -0.20327891  1.39911854 -0.35355339]\n",
      " [-0.59663211  0.68111491  0.84380482  0.95650072  0.74761983  1.\n",
      "  -0.20327891  1.39911854 -0.35355339]\n",
      " [-1.67441914  0.68111491 -1.73051498 -1.04547753 -1.38843682 -1.\n",
      "  -0.20327891 -0.03179815 -0.35355339]\n",
      " [ 0.28869296  0.68111491 -0.44335508 -1.04547753 -1.38843682  1.\n",
      "  -0.20327891  1.39911854 -0.35355339]\n",
      " [-0.90457126 -0.68111491  0.84380482 -1.04547753 -1.38843682  1.\n",
      "  -0.20327891  1.39911854 -0.35355339]\n",
      " [-1.63592675 -2.04334474 -0.44335508 -1.04547753 -1.38843682 -1.\n",
      "  -0.20327891 -1.46271484 -0.35355339]\n",
      " [-0.82758647  0.68111491  0.84380482  0.95650072  0.74761983  1.\n",
      "  -0.20327891 -0.03179815 -0.35355339]\n",
      " [ 1.48195717 -2.04334474  0.84380482 -1.04547753  0.74761983  1.\n",
      "  -0.20327891  1.39911854 -3.53553387]\n",
      " [ 1.13552563  0.68111491 -0.44335508 -1.04547753 -1.38843682 -1.\n",
      "  -0.20327891 -1.46271484 -0.35355339]\n",
      " [ 1.44346478  0.68111491 -0.44335508  0.95650072  0.74761983 -1.\n",
      "  -0.20327891  1.39911854 -0.35355339]\n",
      " [-0.94306366 -0.68111491 -1.73051498  0.95650072  0.74761983  1.\n",
      "  -0.20327891 -0.03179815  1.23743685]\n",
      " [ 0.59663211  0.68111491 -1.73051498  0.95650072  0.74761983  1.\n",
      "  -0.20327891  1.39911854 -0.35355339]\n",
      " [ 1.02004844 -0.68111491 -0.44335508 -1.04547753  0.74761983 -1.\n",
      "  -0.20327891 -0.03179815 -0.35355339]\n",
      " [-1.17401802  0.68111491 -0.44335508  0.95650072 -1.38843682  1.\n",
      "   3.45574144 -0.03179815  1.23743685]\n",
      " [ 0.25020056 -0.68111491 -1.73051498 -1.04547753  0.74761983  1.\n",
      "  -0.20327891 -0.03179815 -0.35355339]] \n",
      " [2. 0. 2. 2. 0. 0. 2. 0. 2. 2. 0. 0. 0. 0. 2. 0. 0. 0. 0. 2. 2. 0. 2. 0.\n",
      " 2. 0. 2. 0. 2. 0. 1. 0. 0. 0. 2. 2. 0. 0. 0. 0. 0. 0. 0. 2. 0. 2. 2. 2.\n",
      " 0. 2. 0. 0. 0. 0. 1. 0. 0. 0. 2. 0.]\n"
     ]
    }
   ],
   "source": [
    "print(X_train,\"\\n\", Y_train)"
   ]
  },
  {
   "cell_type": "markdown",
   "metadata": {},
   "source": [
    "Running IBL(K nearest neighbor)"
   ]
  },
  {
   "cell_type": "code",
   "execution_count": 123,
   "metadata": {},
   "outputs": [],
   "source": [
    "from sklearn.neighbors import NearestNeighbors \n",
    "from sklearn.neighbors import KNeighborsClassifier\n",
    "from sklearn.metrics import accuracy_score, classification_report, confusion_matrix"
   ]
  },
  {
   "cell_type": "code",
   "execution_count": 124,
   "metadata": {},
   "outputs": [
    {
     "data": {
      "text/plain": [
       "KNeighborsClassifier(algorithm='auto', leaf_size=30, metric='minkowski',\n",
       "                     metric_params=None, n_jobs=None, n_neighbors=7, p=2,\n",
       "                     weights='uniform')"
      ]
     },
     "execution_count": 124,
     "metadata": {},
     "output_type": "execute_result"
    }
   ],
   "source": [
    "clf = KNeighborsClassifier(n_neighbors=7) \n",
    "clf.fit(X_train, Y_train)"
   ]
  },
  {
   "cell_type": "code",
   "execution_count": 125,
   "metadata": {},
   "outputs": [
    {
     "data": {
      "text/plain": [
       "array([2., 2., 2., 2., 2., 0., 0., 0., 2., 2., 0., 2., 0., 0., 0., 0., 0.,\n",
       "       0., 0., 0., 0., 0., 0., 0., 0., 0., 0., 0., 0., 2.])"
      ]
     },
     "execution_count": 125,
     "metadata": {},
     "output_type": "execute_result"
    }
   ],
   "source": [
    "predictions = clf.predict(X_test)\n",
    "predictions"
   ]
  },
  {
   "cell_type": "code",
   "execution_count": 126,
   "metadata": {},
   "outputs": [
    {
     "data": {
      "text/plain": [
       "array([0., 0., 0., 0., 0., 0., 0., 2., 0., 0., 2., 0., 0., 2., 0., 0., 0.,\n",
       "       0., 0., 0., 0., 0., 0., 0., 0., 0., 0., 0., 0., 0.])"
      ]
     },
     "execution_count": 126,
     "metadata": {},
     "output_type": "execute_result"
    }
   ],
   "source": [
    "Y_test"
   ]
  },
  {
   "cell_type": "code",
   "execution_count": 127,
   "metadata": {},
   "outputs": [
    {
     "data": {
      "text/plain": [
       "<matplotlib.legend.Legend at 0x22d5e0974c8>"
      ]
     },
     "execution_count": 127,
     "metadata": {},
     "output_type": "execute_result"
    },
    {
     "data": {
      "image/png": "[encoded data removed]",
      "text/plain": [
       "<Figure size 1008x360 with 1 Axes>"
      ]
     },
     "metadata": {
      "needs_background": "light"
     },
     "output_type": "display_data"
    }
   ],
   "source": [
    "from matplotlib import pyplot as plt\n",
    "fig = plt.figure(figsize = (14,5))\n",
    "plt.plot(predictions, label = 'prediction', color = \"purple\", marker = \"o\")\n",
    "plt.plot(Y_test, label = 'Y_test',color = \"blue\", marker = \"o\")\n",
    "plt.legend()"
   ]
  },
  {
   "cell_type": "code",
   "execution_count": 128,
   "metadata": {},
   "outputs": [
    {
     "name": "stdout",
     "output_type": "stream",
     "text": [
      "0.6\n"
     ]
    }
   ],
   "source": [
    "print(accuracy_score(Y_test, predictions))"
   ]
  },
  {
   "cell_type": "code",
   "execution_count": 129,
   "metadata": {},
   "outputs": [
    {
     "name": "stdout",
     "output_type": "stream",
     "text": [
      "[[0. 0. 0. ... 0. 0. 0.]\n",
      " [0. 0. 0. ... 0. 0. 0.]\n",
      " [0. 0. 0. ... 0. 0. 0.]\n",
      " ...\n",
      " [0. 0. 0. ... 0. 0. 0.]\n",
      " [0. 0. 0. ... 0. 0. 0.]\n",
      " [0. 0. 0. ... 0. 0. 0.]]\n"
     ]
    }
   ],
   "source": [
    "print(clf.kneighbors_graph(X_test).toarray())"
   ]
  },
  {
   "cell_type": "code",
   "execution_count": 130,
   "metadata": {},
   "outputs": [
    {
     "name": "stdout",
     "output_type": "stream",
     "text": [
      "[[0.42857143 0.         0.57142857]\n",
      " [0.42857143 0.         0.57142857]\n",
      " [0.42857143 0.         0.57142857]\n",
      " [0.42857143 0.         0.57142857]\n",
      " [0.14285714 0.         0.85714286]\n",
      " [0.85714286 0.         0.14285714]\n",
      " [0.71428571 0.         0.28571429]\n",
      " [0.85714286 0.         0.14285714]\n",
      " [0.42857143 0.         0.57142857]\n",
      " [0.42857143 0.         0.57142857]\n",
      " [0.85714286 0.         0.14285714]\n",
      " [0.42857143 0.         0.57142857]\n",
      " [0.42857143 0.14285714 0.42857143]\n",
      " [0.85714286 0.         0.14285714]\n",
      " [0.71428571 0.         0.28571429]\n",
      " [0.71428571 0.         0.28571429]\n",
      " [0.57142857 0.         0.42857143]\n",
      " [0.57142857 0.         0.42857143]\n",
      " [0.85714286 0.         0.14285714]\n",
      " [0.42857143 0.14285714 0.42857143]\n",
      " [0.85714286 0.         0.14285714]\n",
      " [0.71428571 0.         0.28571429]\n",
      " [0.71428571 0.         0.28571429]\n",
      " [0.71428571 0.         0.28571429]\n",
      " [0.42857143 0.14285714 0.42857143]\n",
      " [0.71428571 0.         0.28571429]\n",
      " [0.71428571 0.         0.28571429]\n",
      " [0.71428571 0.         0.28571429]\n",
      " [0.57142857 0.         0.42857143]\n",
      " [0.28571429 0.14285714 0.57142857]]\n"
     ]
    }
   ],
   "source": [
    "pred_prob = clf.predict_proba(X_test)\n",
    "print(pred_prob)"
   ]
  },
  {
   "cell_type": "markdown",
   "metadata": {},
   "source": [
    "1)"
   ]
  },
  {
   "cell_type": "code",
   "execution_count": 131,
   "metadata": {},
   "outputs": [
    {
     "data": {
      "text/plain": [
       "[0.5333333333333333, 0.6333333333333333, 0.6, 0.6666666666666666]"
      ]
     },
     "execution_count": 131,
     "metadata": {},
     "output_type": "execute_result"
    }
   ],
   "source": [
    "acc_n = []\n",
    "\n",
    "clf_n = KNeighborsClassifier(n_neighbors=1) \n",
    "clf_n.fit(X_train, Y_train)\n",
    "predictions_n = clf_n.predict(X_test)\n",
    "accuracy_n = accuracy_score(Y_test, predictions_n)\n",
    "acc_n.append(accuracy_n)\n",
    "\n",
    "clf_n = KNeighborsClassifier(n_neighbors=5) \n",
    "clf_n.fit(X_train, Y_train)\n",
    "predictions_n = clf_n.predict(X_test)\n",
    "accuracy_n = accuracy_score(Y_test, predictions_n)\n",
    "acc_n.append(accuracy_n)\n",
    "\n",
    "clf_n = KNeighborsClassifier(n_neighbors=9) \n",
    "clf_n.fit(X_train, Y_train)\n",
    "predictions_n = clf_n.predict(X_test)\n",
    "accuracy_n = accuracy_score(Y_test, predictions_n)\n",
    "acc_n.append(accuracy_n)\n",
    "\n",
    "clf_n = KNeighborsClassifier(n_neighbors=15) \n",
    "clf_n.fit(X_train, Y_train)\n",
    "predictions_n = clf_n.predict(X_test)\n",
    "accuracy_n = accuracy_score(Y_test, predictions_n)\n",
    "acc_n.append(accuracy_n)\n",
    "\n",
    "acc_n"
   ]
  },
  {
   "cell_type": "code",
   "execution_count": 132,
   "metadata": {},
   "outputs": [
    {
     "data": {
      "text/plain": [
       "([<matplotlib.axis.XTick at 0x22d5f15fa08>,\n",
       "  <matplotlib.axis.XTick at 0x22d5f14dc48>,\n",
       "  <matplotlib.axis.XTick at 0x22d5f14d888>,\n",
       "  <matplotlib.axis.XTick at 0x22d5f1724c8>],\n",
       " <a list of 4 Text xticklabel objects>)"
      ]
     },
     "execution_count": 132,
     "metadata": {},
     "output_type": "execute_result"
    },
    {
     "data": {
      "image/png": "[encoded data removed]",
      "text/plain": [
       "<Figure size 432x288 with 1 Axes>"
      ]
     },
     "metadata": {
      "needs_background": "light"
     },
     "output_type": "display_data"
    }
   ],
   "source": [
    "x_axis = [1,5,9,15]\n",
    "plt.plot(x_axis,acc_n, color = \"purple\", marker = \"o\")\n",
    "plt.xticks(x_axis)"
   ]
  },
  {
   "cell_type": "markdown",
   "metadata": {},
   "source": [
    "2)"
   ]
  },
  {
   "cell_type": "code",
   "execution_count": 133,
   "metadata": {},
   "outputs": [
    {
     "data": {
      "text/plain": [
       "[0.5333333333333333, 0.6333333333333333, 0.6, 0.6666666666666666]"
      ]
     },
     "execution_count": 133,
     "metadata": {},
     "output_type": "execute_result"
    }
   ],
   "source": [
    "acc_w1 = []\n",
    "\n",
    "clf_w = KNeighborsClassifier(n_neighbors=1) \n",
    "clf_w.fit(X_train, Y_train)\n",
    "predictions_w = clf_w.predict(X_test)\n",
    "accuracy_w = accuracy_score(Y_test, predictions_w)\n",
    "acc_w1.append(accuracy_w)\n",
    "\n",
    "clf_w = KNeighborsClassifier(n_neighbors=5) \n",
    "clf_w.fit(X_train, Y_train)\n",
    "predictions_w = clf_w.predict(X_test)\n",
    "accuracy_w = accuracy_score(Y_test, predictions_w)\n",
    "acc_w1.append(accuracy_w)\n",
    "\n",
    "clf_w = KNeighborsClassifier(n_neighbors=9) \n",
    "clf_w.fit(X_train, Y_train)\n",
    "predictions_w = clf_w.predict(X_test)\n",
    "accuracy_w = accuracy_score(Y_test, predictions_w)\n",
    "acc_w1.append(accuracy_w)\n",
    "\n",
    "clf_w = KNeighborsClassifier(n_neighbors=15) \n",
    "clf_w.fit(X_train, Y_train)\n",
    "predictions_w = clf_w.predict(X_test)\n",
    "accuracy_w = accuracy_score(Y_test, predictions_w)\n",
    "acc_w1.append(accuracy_w)\n",
    "\n",
    "acc_w1"
   ]
  },
  {
   "cell_type": "code",
   "execution_count": 134,
   "metadata": {},
   "outputs": [
    {
     "data": {
      "text/plain": [
       "[0.5333333333333333, 0.5333333333333333, 0.4666666666666667, 0.6]"
      ]
     },
     "execution_count": 134,
     "metadata": {},
     "output_type": "execute_result"
    }
   ],
   "source": [
    "acc_w2 = []\n",
    "\n",
    "clf_w = KNeighborsClassifier(n_neighbors=1, weights = 'distance') \n",
    "clf_w.fit(X_train, Y_train)\n",
    "predictions_w = clf_w.predict(X_test)\n",
    "accuracy_w = accuracy_score(Y_test, predictions_w)\n",
    "acc_w2.append(accuracy_w)\n",
    "\n",
    "clf_w = KNeighborsClassifier(n_neighbors=5, weights = 'distance') \n",
    "clf_w.fit(X_train, Y_train)\n",
    "predictions_w = clf_w.predict(X_test)\n",
    "accuracy_w = accuracy_score(Y_test, predictions_w)\n",
    "acc_w2.append(accuracy_w)\n",
    "\n",
    "clf_w = KNeighborsClassifier(n_neighbors=9, weights = 'distance') \n",
    "clf_w.fit(X_train, Y_train)\n",
    "predictions_w = clf_w.predict(X_test)\n",
    "accuracy_w = accuracy_score(Y_test, predictions_w)\n",
    "acc_w2.append(accuracy_w)\n",
    "\n",
    "clf_w = KNeighborsClassifier(n_neighbors=15, weights = 'distance') \n",
    "clf_w.fit(X_train, Y_train)\n",
    "predictions_w = clf_w.predict(X_test)\n",
    "accuracy_w = accuracy_score(Y_test, predictions_w)\n",
    "acc_w2.append(accuracy_w)\n",
    "\n",
    "acc_w2"
   ]
  },
  {
   "cell_type": "code",
   "execution_count": 135,
   "metadata": {},
   "outputs": [
    {
     "data": {
      "text/plain": [
       "([<matplotlib.axis.XTick at 0x22d5f1210c8>,\n",
       "  <matplotlib.axis.XTick at 0x22d5f11de88>,\n",
       "  <matplotlib.axis.XTick at 0x22d5f18d848>,\n",
       "  <matplotlib.axis.XTick at 0x22d5f1d4188>],\n",
       " <a list of 4 Text xticklabel objects>)"
      ]
     },
     "execution_count": 135,
     "metadata": {},
     "output_type": "execute_result"
    },
    {
     "data": {
      "image/png": "[encoded data removed]",
      "text/plain": [
       "<Figure size 432x288 with 1 Axes>"
      ]
     },
     "metadata": {
      "needs_background": "light"
     },
     "output_type": "display_data"
    }
   ],
   "source": [
    "x_axis = [1,5,9,15]\n",
    "plt.plot(x_axis,acc_w1, label = 'uniform', color = \"purple\", marker = \"o\")\n",
    "plt.plot(x_axis,acc_w2, label = 'distance', color = \"blue\", marker = \"o\")\n",
    "plt.legend()\n",
    "plt.xticks(x_axis)"
   ]
  },
  {
   "cell_type": "markdown",
   "metadata": {},
   "source": [
    "3)"
   ]
  },
  {
   "cell_type": "code",
   "execution_count": 136,
   "metadata": {},
   "outputs": [
    {
     "data": {
      "text/plain": [
       "[0.5666666666666667, 0.6, 0.7333333333333333, 0.7333333333333333]"
      ]
     },
     "execution_count": 136,
     "metadata": {},
     "output_type": "execute_result"
    }
   ],
   "source": [
    "acc_p1 = []\n",
    "\n",
    "clf_p = KNeighborsClassifier(n_neighbors=1, p=1) \n",
    "clf_p.fit(X_train, Y_train)\n",
    "predictions_p = clf_p.predict(X_test)\n",
    "accuracy_p = accuracy_score(Y_test, predictions_p)\n",
    "acc_p1.append(accuracy_p)\n",
    "\n",
    "clf_p = KNeighborsClassifier(n_neighbors=5, p=1) \n",
    "clf_p.fit(X_train, Y_train)\n",
    "predictions_p = clf_p.predict(X_test)\n",
    "accuracy_p = accuracy_score(Y_test, predictions_p)\n",
    "acc_p1.append(accuracy_p)\n",
    "\n",
    "clf_p = KNeighborsClassifier(n_neighbors=9, p=1) \n",
    "clf_p.fit(X_train, Y_train)\n",
    "predictions_p = clf_p.predict(X_test)\n",
    "accuracy_p = accuracy_score(Y_test, predictions_p)\n",
    "acc_p1.append(accuracy_p)\n",
    "\n",
    "clf_p = KNeighborsClassifier(n_neighbors=15, p=1) \n",
    "clf_p.fit(X_train, Y_train)\n",
    "predictions_p = clf_p.predict(X_test)\n",
    "accuracy_p = accuracy_score(Y_test, predictions_p)\n",
    "acc_p1.append(accuracy_p)\n",
    "\n",
    "acc_p1"
   ]
  },
  {
   "cell_type": "code",
   "execution_count": 137,
   "metadata": {},
   "outputs": [
    {
     "data": {
      "text/plain": [
       "[0.5333333333333333, 0.6333333333333333, 0.6, 0.6666666666666666]"
      ]
     },
     "execution_count": 137,
     "metadata": {},
     "output_type": "execute_result"
    }
   ],
   "source": [
    "acc_p2 = []\n",
    "\n",
    "clf_p = KNeighborsClassifier(n_neighbors=1) \n",
    "clf_p.fit(X_train, Y_train)\n",
    "predictions_p = clf_p.predict(X_test)\n",
    "accuracy_p = accuracy_score(Y_test, predictions_p)\n",
    "acc_p2.append(accuracy_p)\n",
    "\n",
    "clf_p = KNeighborsClassifier(n_neighbors=5) \n",
    "clf_p.fit(X_train, Y_train)\n",
    "predictions_p = clf_p.predict(X_test)\n",
    "accuracy_p = accuracy_score(Y_test, predictions_p)\n",
    "acc_p2.append(accuracy_p)\n",
    "\n",
    "clf_p = KNeighborsClassifier(n_neighbors=9) \n",
    "clf_p.fit(X_train, Y_train)\n",
    "predictions_p = clf_p.predict(X_test)\n",
    "accuracy_p = accuracy_score(Y_test, predictions_p)\n",
    "acc_p2.append(accuracy_p)\n",
    "\n",
    "clf_p = KNeighborsClassifier(n_neighbors=15) \n",
    "clf_p.fit(X_train, Y_train)\n",
    "predictions_p = clf_p.predict(X_test)\n",
    "accuracy_p = accuracy_score(Y_test, predictions_p)\n",
    "acc_p2.append(accuracy_p)\n",
    "\n",
    "acc_p2"
   ]
  },
  {
   "cell_type": "code",
   "execution_count": 138,
   "metadata": {},
   "outputs": [
    {
     "data": {
      "text/plain": [
       "([<matplotlib.axis.XTick at 0x22d5f184388>,\n",
       "  <matplotlib.axis.XTick at 0x22d5f212dc8>,\n",
       "  <matplotlib.axis.XTick at 0x22d5f2129c8>,\n",
       "  <matplotlib.axis.XTick at 0x22d5f245288>],\n",
       " <a list of 4 Text xticklabel objects>)"
      ]
     },
     "execution_count": 138,
     "metadata": {},
     "output_type": "execute_result"
    },
    {
     "data": {
      "image/png": "[encoded data removed]",
      "text/plain": [
       "<Figure size 432x288 with 1 Axes>"
      ]
     },
     "metadata": {
      "needs_background": "light"
     },
     "output_type": "display_data"
    }
   ],
   "source": [
    "x_axis = [1,5,9,15]\n",
    "plt.plot(x_axis,acc_p1, label = 'p=1', color = \"purple\", marker = \"o\")\n",
    "plt.plot(x_axis,acc_p2, label = 'p=2', color = \"blue\", marker = \"o\")\n",
    "plt.legend()\n",
    "plt.xticks(x_axis)"
   ]
  },
  {
   "cell_type": "markdown",
   "metadata": {},
   "source": [
    "\n",
    "\n",
    "Running AdaBoost"
   ]
  },
  {
   "cell_type": "code",
   "execution_count": 139,
   "metadata": {},
   "outputs": [
    {
     "data": {
      "text/plain": [
       "array([2., 2., 0., 0., 2., 2., 2., 0., 2., 2., 1., 2., 0., 0., 2., 2., 2.,\n",
       "       2., 0., 0., 0., 0., 0., 2., 2., 2., 0., 0., 2., 0.])"
      ]
     },
     "execution_count": 139,
     "metadata": {},
     "output_type": "execute_result"
    }
   ],
   "source": [
    "from sklearn.ensemble import AdaBoostClassifier \n",
    "from sklearn.tree import DecisionTreeClassifier\n",
    "\n",
    "clf = AdaBoostClassifier() \n",
    "clf.fit(X_train, Y_train) \n",
    "predictions = clf.predict(X_test)\n",
    "predictions"
   ]
  },
  {
   "cell_type": "code",
   "execution_count": 140,
   "metadata": {},
   "outputs": [
    {
     "name": "stdout",
     "output_type": "stream",
     "text": [
      "[[0.49858304 0.001199   0.50021796]\n",
      " [0.49858304 0.001199   0.50021796]\n",
      " [0.50686647 0.00120688 0.49192665]\n",
      " [0.56448418 0.43455634 0.00095948]\n",
      " [0.49858304 0.001199   0.50021796]\n",
      " [0.49858304 0.001199   0.50021796]\n",
      " [0.49858304 0.001199   0.50021796]\n",
      " [0.50686647 0.00120688 0.49192665]\n",
      " [0.49858304 0.001199   0.50021796]\n",
      " [0.49858304 0.001199   0.50021796]\n",
      " [0.04529524 0.9108443  0.04386046]\n",
      " [0.49858304 0.001199   0.50021796]\n",
      " [0.50686647 0.00120688 0.49192665]\n",
      " [0.90012967 0.07698904 0.02288129]\n",
      " [0.49858304 0.001199   0.50021796]\n",
      " [0.49858304 0.001199   0.50021796]\n",
      " [0.49858304 0.001199   0.50021796]\n",
      " [0.49858304 0.001199   0.50021796]\n",
      " [0.50686647 0.00120688 0.49192665]\n",
      " [0.50686647 0.00120688 0.49192665]\n",
      " [0.50686647 0.00120688 0.49192665]\n",
      " [0.50686647 0.00120688 0.49192665]\n",
      " [0.50686647 0.00120688 0.49192665]\n",
      " [0.49858304 0.001199   0.50021796]\n",
      " [0.49858304 0.001199   0.50021796]\n",
      " [0.49858304 0.001199   0.50021796]\n",
      " [0.50686647 0.00120688 0.49192665]\n",
      " [0.50686647 0.00120688 0.49192665]\n",
      " [0.49858304 0.001199   0.50021796]\n",
      " [0.50686647 0.00120688 0.49192665]]\n"
     ]
    }
   ],
   "source": [
    "pred_prob = clf.predict_proba(X_test)\n",
    "print(pred_prob)"
   ]
  },
  {
   "cell_type": "code",
   "execution_count": 141,
   "metadata": {},
   "outputs": [
    {
     "data": {
      "text/plain": [
       "0.36666666666666664"
      ]
     },
     "execution_count": 141,
     "metadata": {},
     "output_type": "execute_result"
    }
   ],
   "source": [
    "accuracy_score(Y_test, predictions)"
   ]
  },
  {
   "cell_type": "markdown",
   "metadata": {},
   "source": [
    "1)"
   ]
  },
  {
   "cell_type": "code",
   "execution_count": 142,
   "metadata": {
    "scrolled": true
   },
   "outputs": [
    {
     "data": {
      "text/plain": [
       "[0.36666666666666664,\n",
       " 0.3333333333333333,\n",
       " 0.36666666666666664,\n",
       " 0.36666666666666664,\n",
       " 0.3333333333333333]"
      ]
     },
     "execution_count": 142,
     "metadata": {},
     "output_type": "execute_result"
    }
   ],
   "source": [
    "acc_e = []\n",
    "\n",
    "clf_e = AdaBoostClassifier(n_estimators = 3) \n",
    "clf_e.fit(X_train, Y_train) \n",
    "predictions_e = clf_e.predict(X_test)\n",
    "accuracy_e = clf_e.score(X_test, Y_test) \n",
    "acc_e.append(accuracy_e)\n",
    "\n",
    "clf_e = AdaBoostClassifier(n_estimators = 7) \n",
    "clf_e.fit(X_train, Y_train) \n",
    "predictions_e = clf_e.predict(X_test)\n",
    "accuracy_e = clf_e.score(X_test, Y_test) \n",
    "acc_e.append(accuracy_e)\n",
    "\n",
    "clf_e = AdaBoostClassifier(n_estimators = 10) \n",
    "clf_e.fit(X_train, Y_train) \n",
    "predictions_e = clf_e.predict(X_test)\n",
    "accuracy_e = clf_e.score(X_test, Y_test) \n",
    "acc_e.append(accuracy_e)\n",
    "\n",
    "clf_e = AdaBoostClassifier(n_estimators = 50) \n",
    "clf_e.fit(X_train, Y_train) \n",
    "predictions_e = clf_e.predict(X_test)\n",
    "accuracy_e = clf_e.score(X_test, Y_test) \n",
    "acc_e.append(accuracy_e)\n",
    "\n",
    "clf_e = AdaBoostClassifier(n_estimators = 100) \n",
    "clf_e.fit(X_train, Y_train) \n",
    "predictions_e = clf_e.predict(X_test)\n",
    "accuracy_e = clf_e.score(X_test, Y_test) \n",
    "acc_e.append(accuracy_e)\n",
    "\n",
    "acc_e"
   ]
  },
  {
   "cell_type": "code",
   "execution_count": 143,
   "metadata": {},
   "outputs": [
    {
     "data": {
      "text/plain": [
       "([<matplotlib.axis.XTick at 0x22d5f289d48>,\n",
       "  <matplotlib.axis.XTick at 0x22d5f289388>,\n",
       "  <matplotlib.axis.XTick at 0x22d5f281f48>,\n",
       "  <matplotlib.axis.XTick at 0x22d5f2b6508>,\n",
       "  <matplotlib.axis.XTick at 0x22d5f2b6dc8>],\n",
       " <a list of 5 Text xticklabel objects>)"
      ]
     },
     "execution_count": 143,
     "metadata": {},
     "output_type": "execute_result"
    },
    {
     "data": {
      "image/png": "[encoded data removed]",
      "text/plain": [
       "<Figure size 432x288 with 1 Axes>"
      ]
     },
     "metadata": {
      "needs_background": "light"
     },
     "output_type": "display_data"
    }
   ],
   "source": [
    "x_axis = [3,7,10,50,100]\n",
    "plt.plot(x_axis, acc_e, color = \"purple\", marker = \"o\")\n",
    "plt.xticks(x_axis)"
   ]
  },
  {
   "cell_type": "markdown",
   "metadata": {},
   "source": [
    "Running Random Forest"
   ]
  },
  {
   "cell_type": "code",
   "execution_count": 144,
   "metadata": {},
   "outputs": [
    {
     "data": {
      "text/plain": [
       "array([0., 0., 0., 0., 2., 0., 0., 0., 2., 0., 0., 0., 0., 0., 0., 0., 0.,\n",
       "       0., 0., 0., 0., 0., 0., 0., 0., 0., 0., 0., 0., 0.])"
      ]
     },
     "execution_count": 144,
     "metadata": {},
     "output_type": "execute_result"
    }
   ],
   "source": [
    "from sklearn.ensemble import RandomForestClassifier\n",
    "\n",
    "clf = RandomForestClassifier(n_estimators=100, max_depth=2, random_state=0) \n",
    "clf.fit(X_train, Y_train)\n",
    "predictions = clf.predict(X_test)\n",
    "predictions"
   ]
  },
  {
   "cell_type": "code",
   "execution_count": 145,
   "metadata": {},
   "outputs": [
    {
     "name": "stdout",
     "output_type": "stream",
     "text": [
      "[[0.51217368 0.04328115 0.44454517]\n",
      " [0.53687544 0.04316793 0.41995663]\n",
      " [0.63567491 0.04081198 0.32351311]\n",
      " [0.53025696 0.09717675 0.37256629]\n",
      " [0.46537824 0.02140154 0.51322023]\n",
      " [0.68299782 0.02714022 0.28986196]\n",
      " [0.66599135 0.03553702 0.29847163]\n",
      " [0.71088393 0.04210831 0.24700776]\n",
      " [0.43103474 0.03614437 0.53282088]\n",
      " [0.546837   0.03150635 0.42165665]\n",
      " [0.67262987 0.0386924  0.28867773]\n",
      " [0.53059809 0.04277171 0.4266302 ]\n",
      " [0.67638697 0.04386036 0.27975268]\n",
      " [0.68924884 0.03482756 0.2759236 ]\n",
      " [0.60540384 0.02044934 0.37414682]\n",
      " [0.51985894 0.0188602  0.46128086]\n",
      " [0.58882522 0.03035618 0.3808186 ]\n",
      " [0.55444601 0.03092343 0.41463056]\n",
      " [0.74136582 0.03146378 0.2271704 ]\n",
      " [0.60125978 0.04892722 0.34981299]\n",
      " [0.75101433 0.02648777 0.2224979 ]\n",
      " [0.74692342 0.02648777 0.22658881]\n",
      " [0.66438185 0.02414339 0.31147476]\n",
      " [0.62090257 0.04076069 0.33833674]\n",
      " [0.53417129 0.04198764 0.42384107]\n",
      " [0.57857536 0.02705574 0.3943689 ]\n",
      " [0.6872043  0.02557143 0.28722426]\n",
      " [0.6896311  0.0253555  0.2850134 ]\n",
      " [0.50261793 0.0456268  0.45175527]\n",
      " [0.61642413 0.04849153 0.33508434]]\n"
     ]
    }
   ],
   "source": [
    "pred_prob = clf.predict_proba(X_test)\n",
    "print(pred_prob)"
   ]
  },
  {
   "cell_type": "code",
   "execution_count": 146,
   "metadata": {},
   "outputs": [
    {
     "data": {
      "text/plain": [
       "0.8333333333333334"
      ]
     },
     "execution_count": 146,
     "metadata": {},
     "output_type": "execute_result"
    }
   ],
   "source": [
    "accuracy_score(Y_test, predictions)"
   ]
  },
  {
   "cell_type": "markdown",
   "metadata": {},
   "source": [
    "1)"
   ]
  },
  {
   "cell_type": "code",
   "execution_count": 147,
   "metadata": {},
   "outputs": [
    {
     "data": {
      "text/plain": [
       "[0.7, 0.8333333333333334, 0.8, 0.8, 0.8333333333333334]"
      ]
     },
     "execution_count": 147,
     "metadata": {},
     "output_type": "execute_result"
    }
   ],
   "source": [
    "acc_r = []\n",
    "\n",
    "clf_r = RandomForestClassifier(n_estimators=5,max_depth=2, random_state=0) \n",
    "clf_r.fit(X_train, Y_train)\n",
    "predictions_r = clf_r.predict(X_test)\n",
    "accuracy_r = accuracy_score(Y_test, predictions_r)\n",
    "acc_r.append(accuracy_r)\n",
    "\n",
    "clf_r = RandomForestClassifier(n_estimators=10, max_depth=2, random_state=0) \n",
    "clf_r.fit(X_train, Y_train)\n",
    "predictions_r = clf_r.predict(X_test)\n",
    "accuracy_r = accuracy_score(Y_test, predictions_r)\n",
    "acc_r.append(accuracy_r)\n",
    "\n",
    "clf_r = RandomForestClassifier(n_estimators=30, max_depth=2, random_state=0) \n",
    "clf_r.fit(X_train, Y_train)\n",
    "predictions_r = clf_r.predict(X_test)\n",
    "accuracy_r = accuracy_score(Y_test, predictions_r)\n",
    "acc_r.append(accuracy_r)\n",
    "\n",
    "clf_r = RandomForestClassifier(n_estimators=50, max_depth=2, random_state=0) \n",
    "clf_r.fit(X_train, Y_train)\n",
    "predictions_r = clf_r.predict(X_test)\n",
    "accuracy_r = accuracy_score(Y_test, predictions_r)\n",
    "acc_r.append(accuracy_r)\n",
    "\n",
    "clf_r = RandomForestClassifier(n_estimators=100, max_depth=2, random_state=0) \n",
    "clf_r.fit(X_train, Y_train)\n",
    "predictions_r = clf_r.predict(X_test)\n",
    "accuracy_r = accuracy_score(Y_test, predictions_r)\n",
    "acc_r.append(accuracy_r)\n",
    "\n",
    "acc_r"
   ]
  },
  {
   "cell_type": "code",
   "execution_count": 148,
   "metadata": {},
   "outputs": [
    {
     "data": {
      "text/plain": [
       "([<matplotlib.axis.XTick at 0x22d5f307188>,\n",
       "  <matplotlib.axis.XTick at 0x22d5f30d948>,\n",
       "  <matplotlib.axis.XTick at 0x22d5f30dc48>,\n",
       "  <matplotlib.axis.XTick at 0x22d5f3336c8>,\n",
       "  <matplotlib.axis.XTick at 0x22d5f333dc8>],\n",
       " <a list of 5 Text xticklabel objects>)"
      ]
     },
     "execution_count": 148,
     "metadata": {},
     "output_type": "execute_result"
    },
    {
     "data": {
      "image/png": "[encoded data removed]",
      "text/plain": [
       "<Figure size 432x288 with 1 Axes>"
      ]
     },
     "metadata": {
      "needs_background": "light"
     },
     "output_type": "display_data"
    }
   ],
   "source": [
    "x_axis = [5,10,30,50,100]\n",
    "plt.plot(x_axis, acc_r, color = \"purple\", marker = \"o\")\n",
    "plt.xticks(x_axis)"
   ]
  },
  {
   "cell_type": "markdown",
   "metadata": {},
   "source": [
    "2)"
   ]
  },
  {
   "cell_type": "code",
   "execution_count": 149,
   "metadata": {},
   "outputs": [
    {
     "name": "stdout",
     "output_type": "stream",
     "text": [
      "Out-of-bag score estimate: 0.583\n"
     ]
    },
    {
     "data": {
      "text/plain": [
       "[0.8333333333333334, 0.8333333333333334]"
      ]
     },
     "execution_count": 149,
     "metadata": {},
     "output_type": "execute_result"
    }
   ],
   "source": [
    "acc_oob = []\n",
    "\n",
    "clf_r = RandomForestClassifier(n_estimators=100, max_depth=2, random_state=0, oob_score = True) \n",
    "clf_r.fit(X_train, Y_train)\n",
    "predictions_r = clf_r.predict(X_test)\n",
    "accuracy_r = accuracy_score(Y_test, predictions_r)\n",
    "acc_oob.append(accuracy_r)\n",
    "print(f'Out-of-bag score estimate: {clf_r.oob_score_:.3}')\n",
    "\n",
    "clf_r = RandomForestClassifier(n_estimators=100, max_depth=2, random_state=0,oob_score = False)\n",
    "clf_r.fit(X_train, Y_train)\n",
    "predictions_r = clf_r.predict(X_test)\n",
    "accuracy_r = accuracy_score(Y_test, predictions_r)\n",
    "acc_oob.append(accuracy_r)\n",
    "\n",
    "acc_oob"
   ]
  },
  {
   "cell_type": "code",
   "execution_count": 150,
   "metadata": {},
   "outputs": [
    {
     "data": {
      "text/plain": [
       "([<matplotlib.axis.XTick at 0x22d5f36b288>,\n",
       "  <matplotlib.axis.XTick at 0x22d5f2fdfc8>],\n",
       " <a list of 2 Text xticklabel objects>)"
      ]
     },
     "execution_count": 150,
     "metadata": {},
     "output_type": "execute_result"
    },
    {
     "data": {
      "image/png": "[encoded data removed]",
      "text/plain": [
       "<Figure size 432x288 with 1 Axes>"
      ]
     },
     "metadata": {
      "needs_background": "light"
     },
     "output_type": "display_data"
    }
   ],
   "source": [
    "x_axis = ['True','False']\n",
    "plt.bar(x_axis, acc_oob, color = \"purple\")\n",
    "plt.xticks(x_axis)"
   ]
  },
  {
   "cell_type": "markdown",
   "metadata": {},
   "source": [
    "3)"
   ]
  },
  {
   "cell_type": "code",
   "execution_count": 151,
   "metadata": {},
   "outputs": [
    {
     "data": {
      "text/plain": [
       "[0.8333333333333334, 0.8333333333333334, 0.8333333333333334]"
      ]
     },
     "execution_count": 151,
     "metadata": {},
     "output_type": "execute_result"
    }
   ],
   "source": [
    "acc_f = []\n",
    "\n",
    "clf_r = RandomForestClassifier(n_estimators=10,max_depth=2, random_state=0, max_features = 'auto') \n",
    "clf_r.fit(X_train, Y_train)\n",
    "predictions_r = clf_r.predict(X_test)\n",
    "accuracy_r = accuracy_score(Y_test, predictions_r)\n",
    "acc_f.append(accuracy_r)\n",
    "\n",
    "clf_r = RandomForestClassifier(n_estimators=10, max_depth=2, random_state=0,max_features = 'sqrt') \n",
    "clf_r.fit(X_train, Y_train)\n",
    "predictions_r = clf_r.predict(X_test)\n",
    "accuracy_r = accuracy_score(Y_test, predictions_r)\n",
    "acc_f.append(accuracy_r)\n",
    "\n",
    "clf_r = RandomForestClassifier(n_estimators=10,max_depth=2, random_state=0, max_features = 'log2') \n",
    "clf_r.fit(X_train, Y_train)\n",
    "predictions_r = clf_r.predict(X_test)\n",
    "accuracy_r = accuracy_score(Y_test, predictions_r)\n",
    "acc_f.append(accuracy_r)\n",
    "\n",
    "acc_f"
   ]
  },
  {
   "cell_type": "code",
   "execution_count": 152,
   "metadata": {},
   "outputs": [
    {
     "data": {
      "text/plain": [
       "[<matplotlib.lines.Line2D at 0x22d5f3dea08>]"
      ]
     },
     "execution_count": 152,
     "metadata": {},
     "output_type": "execute_result"
    },
    {
     "data": {
      "image/png": "[encoded data removed]",
      "text/plain": [
       "<Figure size 432x288 with 1 Axes>"
      ]
     },
     "metadata": {
      "needs_background": "light"
     },
     "output_type": "display_data"
    }
   ],
   "source": [
    "x_axis = ['auto','sqrt','log2']\n",
    "plt.plot(x_axis, acc_f, color = \"purple\", marker = \"o\")"
   ]
  },
  {
   "cell_type": "markdown",
   "metadata": {},
   "source": [
    "Running SVM"
   ]
  },
  {
   "cell_type": "markdown",
   "metadata": {},
   "source": [
    "1)"
   ]
  },
  {
   "cell_type": "code",
   "execution_count": 153,
   "metadata": {},
   "outputs": [
    {
     "data": {
      "text/plain": [
       "array([0., 2., 0., 0., 2., 0., 0., 0., 2., 0., 0., 2., 0., 0., 0., 0., 0.,\n",
       "       0., 0., 2., 0., 0., 0., 0., 2., 0., 0., 0., 2., 2.])"
      ]
     },
     "execution_count": 153,
     "metadata": {},
     "output_type": "execute_result"
    }
   ],
   "source": [
    "from sklearn import svm\n",
    "clf = svm.SVC() \n",
    "clf.fit(X_train, Y_train) \n",
    "predictions = clf.predict(X_test)\n",
    "predictions"
   ]
  },
  {
   "cell_type": "code",
   "execution_count": 154,
   "metadata": {},
   "outputs": [
    {
     "data": {
      "text/plain": [
       "0.6333333333333333"
      ]
     },
     "execution_count": 154,
     "metadata": {},
     "output_type": "execute_result"
    }
   ],
   "source": [
    "accuracy = accuracy_score(Y_test, predictions)\n",
    "accuracy"
   ]
  },
  {
   "cell_type": "markdown",
   "metadata": {},
   "source": [
    "2)"
   ]
  },
  {
   "cell_type": "code",
   "execution_count": 155,
   "metadata": {},
   "outputs": [
    {
     "data": {
      "text/plain": [
       "[0.5, 0.8666666666666667, 0.6333333333333333, 0.6333333333333333]"
      ]
     },
     "execution_count": 155,
     "metadata": {},
     "output_type": "execute_result"
    }
   ],
   "source": [
    "acc_k =[]\n",
    "\n",
    "clf_k = svm.SVC(kernel='linear') \n",
    "clf_k.fit(X_train, Y_train) \n",
    "predictions_k = clf_k.predict(X_test)\n",
    "accuracy_k = accuracy_score(Y_test, predictions_k)\n",
    "acc_k.append(accuracy_k)\n",
    "\n",
    "clf_k = svm.SVC(kernel='poly') \n",
    "clf_k.fit(X_train, Y_train) \n",
    "predictions_k = clf_k.predict(X_test)\n",
    "accuracy_k = accuracy_score(Y_test, predictions_k)\n",
    "acc_k.append(accuracy_k)\n",
    "\n",
    "clf_k = svm.SVC(kernel='rbf') \n",
    "clf_k.fit(X_train, Y_train) \n",
    "predictions_k = clf_k.predict(X_test)\n",
    "accuracy_k = accuracy_score(Y_test, predictions_k)\n",
    "acc_k.append(accuracy_k)\n",
    "\n",
    "clf_k = svm.SVC(kernel='sigmoid') \n",
    "clf_k.fit(X_train, Y_train) \n",
    "predictions_k = clf_k.predict(X_test)\n",
    "accuracy_k = accuracy_score(Y_test, predictions_k)\n",
    "acc_k.append(accuracy_k)\n",
    "\n",
    "\n",
    "acc_k"
   ]
  },
  {
   "cell_type": "code",
   "execution_count": 156,
   "metadata": {},
   "outputs": [
    {
     "data": {
      "text/plain": [
       "[<matplotlib.lines.Line2D at 0x22d5f42a748>]"
      ]
     },
     "execution_count": 156,
     "metadata": {},
     "output_type": "execute_result"
    },
    {
     "data": {
      "image/png": "[encoded data removed]",
      "text/plain": [
       "<Figure size 432x288 with 1 Axes>"
      ]
     },
     "metadata": {
      "needs_background": "light"
     },
     "output_type": "display_data"
    }
   ],
   "source": [
    "x_axis = ['linear','poly','rbf','sigmoid']\n",
    "plt.plot(x_axis, acc_k, color = \"purple\", marker = \"o\")"
   ]
  },
  {
   "cell_type": "code",
   "execution_count": null,
   "metadata": {},
   "outputs": [],
   "source": []
  }
 ],
 "metadata": {
  "kernelspec": {
   "display_name": "Python 3",
   "language": "python",
   "name": "python3"
  },
  "language_info": {
   "codemirror_mode": {
    "name": "ipython",
    "version": 3
   },
   "file_extension": ".py",
   "mimetype": "text/x-python",
   "name": "python",
   "nbconvert_exporter": "python",
   "pygments_lexer": "ipython3",
   "version": "3.7.6"
  }
 },
 "nbformat": 4,
 "nbformat_minor": 2
}
